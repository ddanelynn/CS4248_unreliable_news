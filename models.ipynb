{
 "cells": [
  {
   "cell_type": "markdown",
   "metadata": {},
   "source": [
    "# CS4248 Project - Labelled Unreliable News (LUN)"
   ]
  },
  {
   "cell_type": "markdown",
   "metadata": {},
   "source": [
    "## Imports"
   ]
  },
  {
   "cell_type": "code",
   "execution_count": 2,
   "metadata": {},
   "outputs": [],
   "source": [
    "import nltk\n",
    "import matplotlib.pyplot as plt\n",
    "import numpy as np\n",
    "import pandas as pd\n",
    "import seaborn as sns\n",
    "import string\n",
    "\n",
    "from nltk.corpus import stopwords\n",
    "from nltk.stem import PorterStemmer, WordNetLemmatizer\n",
    "from nltk.tokenize import word_tokenize\n",
    "from sklearn.feature_extraction.text import TfidfVectorizer\n",
    "from sklearn.linear_model import LogisticRegression\n",
    "from sklearn.metrics import f1_score, accuracy_score, confusion_matrix, classification_report\n",
    "from sklearn.model_selection import train_test_split"
   ]
  },
  {
   "cell_type": "code",
   "execution_count": 3,
   "metadata": {},
   "outputs": [],
   "source": [
    "# A list of contractions from http://stackoverflow.com/questions/19790188/expanding-english-language-contractions-in-python\n",
    "contractions = { \n",
    "    \"ain't\": \"am not\",\n",
    "    \"aren't\": \"are not\",\n",
    "    \"can't\": \"cannot\",\n",
    "    \"can't've\": \"cannot have\",\n",
    "    \"'cause\": \"because\",\n",
    "    \"could've\": \"could have\",\n",
    "    \"couldn't\": \"could not\",\n",
    "    \"couldn't've\": \"could not have\",\n",
    "    \"didn't\": \"did not\",\n",
    "    \"doesn't\": \"does not\",\n",
    "    \"don't\": \"do not\",\n",
    "    \"hadn't\": \"had not\",\n",
    "    \"hadn't've\": \"had not have\",\n",
    "    \"hasn't\": \"has not\",\n",
    "    \"haven't\": \"have not\",\n",
    "    \"he'd\": \"he would\",\n",
    "    \"he'd've\": \"he would have\",\n",
    "    \"he'll\": \"he will\",\n",
    "    \"he's\": \"he is\",\n",
    "    \"how'd\": \"how did\",\n",
    "    \"how'll\": \"how will\",\n",
    "    \"how's\": \"how is\",\n",
    "    \"i'd\": \"i would\",\n",
    "    \"i'll\": \"i will\",\n",
    "    \"i'm\": \"i am\",\n",
    "    \"i've\": \"i have\",\n",
    "    \"isn't\": \"is not\",\n",
    "    \"it'd\": \"it would\",\n",
    "    \"it'll\": \"it will\",\n",
    "    \"it's\": \"it is\",\n",
    "    \"let's\": \"let us\",\n",
    "    \"ma'am\": \"madam\",\n",
    "    \"mayn't\": \"may not\",\n",
    "    \"might've\": \"might have\",\n",
    "    \"mightn't\": \"might not\",\n",
    "    \"must've\": \"must have\",\n",
    "    \"mustn't\": \"must not\",\n",
    "    \"needn't\": \"need not\",\n",
    "    \"oughtn't\": \"ought not\",\n",
    "    \"shan't\": \"shall not\",\n",
    "    \"sha'n't\": \"shall not\",\n",
    "    \"she'd\": \"she would\",\n",
    "    \"she'll\": \"she will\",\n",
    "    \"she's\": \"she is\",\n",
    "    \"should've\": \"should have\",\n",
    "    \"shouldn't\": \"should not\",\n",
    "    \"that'd\": \"that would\",\n",
    "    \"that's\": \"that is\",\n",
    "    \"there'd\": \"there had\",\n",
    "    \"there's\": \"there is\",\n",
    "    \"they'd\": \"they would\",\n",
    "    \"they'll\": \"they will\",\n",
    "    \"they're\": \"they are\",\n",
    "    \"they've\": \"they have\",\n",
    "    \"wasn't\": \"was not\",\n",
    "    \"we'd\": \"we would\",\n",
    "    \"we'll\": \"we will\",\n",
    "    \"we're\": \"we are\",\n",
    "    \"we've\": \"we have\",\n",
    "    \"weren't\": \"were not\",\n",
    "    \"what'll\": \"what will\",\n",
    "    \"what're\": \"what are\",\n",
    "    \"what's\": \"what is\",\n",
    "    \"what've\": \"what have\",\n",
    "    \"where'd\": \"where did\",\n",
    "    \"where's\": \"where is\",\n",
    "    \"who'll\": \"who will\",\n",
    "    \"who's\": \"who is\",\n",
    "    \"won't\": \"will not\",\n",
    "    \"wouldn't\": \"would not\",\n",
    "    \"you'd\": \"you would\",\n",
    "    \"you'll\": \"you will\",\n",
    "    \"you're\": \"you are\"\n",
    "}\n",
    "\n",
    "stop_words = set(stopwords.words('english'))\n",
    "# stemmer = PorterStemmer()\n",
    "lemmatizer = WordNetLemmatizer()\n",
    "stemmer = None\n",
    "# lemmatizer = None\n",
    "\n",
    "TEST_SIZE = 0.1\n",
    "SMOOTHING = 1.0\n",
    "NGRAM_RANGE = (1, 1)"
   ]
  },
  {
   "cell_type": "markdown",
   "metadata": {},
   "source": [
    "## Helper Functions"
   ]
  },
  {
   "cell_type": "code",
   "execution_count": 21,
   "metadata": {},
   "outputs": [],
   "source": [
    "def preprocess(sentence, lower_case=True, remove_punctuation=True, replace_contractions=True):\n",
    "    if lower_case:\n",
    "        sentence = sentence.lower()\n",
    "    if remove_punctuation:\n",
    "        sentence = sentence.translate(str.maketrans('', '', string.punctuation))\n",
    "    if replace_contractions:\n",
    "        news = sentence.split()\n",
    "        new_news = []\n",
    "        for word in news:\n",
    "            if word in contractions:\n",
    "                new_news.append(contractions[word])\n",
    "            else:\n",
    "                new_news.append(word)\n",
    "        sentence = \" \".join(new_news)\n",
    "    return sentence"
   ]
  },
  {
   "cell_type": "code",
   "execution_count": 22,
   "metadata": {},
   "outputs": [],
   "source": [
    "def tokenize(sentence, stemmer=stemmer, lemmatizer=lemmatizer, remove_stop_words=False):\n",
    "    tokens = word_tokenize(sentence)\n",
    "    \n",
    "    if remove_stop_words:\n",
    "        tokens = [token for token in tokens if token not in stop_words]\n",
    "    if stemmer:\n",
    "        tokens = [stemmer.stem(token) for token in tokens]\n",
    "    if lemmatizer:\n",
    "        tokens = [lemmatizer.lemmatize(token) for token in tokens]\n",
    "        \n",
    "    return tokens"
   ]
  },
  {
   "cell_type": "markdown",
   "metadata": {},
   "source": [
    "## Load Data"
   ]
  },
  {
   "cell_type": "code",
   "execution_count": 23,
   "metadata": {},
   "outputs": [
    {
     "data": {
      "text/html": [
       "<div>\n",
       "<style scoped>\n",
       "    .dataframe tbody tr th:only-of-type {\n",
       "        vertical-align: middle;\n",
       "    }\n",
       "\n",
       "    .dataframe tbody tr th {\n",
       "        vertical-align: top;\n",
       "    }\n",
       "\n",
       "    .dataframe thead th {\n",
       "        text-align: right;\n",
       "    }\n",
       "</style>\n",
       "<table border=\"1\" class=\"dataframe\">\n",
       "  <thead>\n",
       "    <tr style=\"text-align: right;\">\n",
       "      <th></th>\n",
       "      <th>label</th>\n",
       "      <th>text</th>\n",
       "    </tr>\n",
       "  </thead>\n",
       "  <tbody>\n",
       "    <tr>\n",
       "      <th>0</th>\n",
       "      <td>1</td>\n",
       "      <td>A little less than a decade ago, hockey fans w...</td>\n",
       "    </tr>\n",
       "    <tr>\n",
       "      <th>1</th>\n",
       "      <td>1</td>\n",
       "      <td>The writers of the HBO series The Sopranos too...</td>\n",
       "    </tr>\n",
       "    <tr>\n",
       "      <th>2</th>\n",
       "      <td>1</td>\n",
       "      <td>Despite claims from the TV news outlet to offe...</td>\n",
       "    </tr>\n",
       "    <tr>\n",
       "      <th>3</th>\n",
       "      <td>1</td>\n",
       "      <td>After receiving 'subpar' service and experienc...</td>\n",
       "    </tr>\n",
       "    <tr>\n",
       "      <th>4</th>\n",
       "      <td>1</td>\n",
       "      <td>After watching his beloved Seattle Mariners pr...</td>\n",
       "    </tr>\n",
       "  </tbody>\n",
       "</table>\n",
       "</div>"
      ],
      "text/plain": [
       "   label                                               text\n",
       "0      1  A little less than a decade ago, hockey fans w...\n",
       "1      1  The writers of the HBO series The Sopranos too...\n",
       "2      1  Despite claims from the TV news outlet to offe...\n",
       "3      1  After receiving 'subpar' service and experienc...\n",
       "4      1  After watching his beloved Seattle Mariners pr..."
      ]
     },
     "execution_count": 23,
     "metadata": {},
     "output_type": "execute_result"
    }
   ],
   "source": [
    "full_train_df = pd.read_csv('raw_data/fulltrain.csv', header=None)\n",
    "full_train_df.columns = ['label', 'text']\n",
    "full_train_df.head()"
   ]
  },
  {
   "cell_type": "code",
   "execution_count": 24,
   "metadata": {},
   "outputs": [
    {
     "name": "stdout",
     "output_type": "stream",
     "text": [
      "No. training samples (all classes): 48652\n"
     ]
    }
   ],
   "source": [
    "train_df = full_train_df.drop_duplicates(subset=['text'])\n",
    "print(f\"No. training samples (all classes): {len(train_df)}\")"
   ]
  },
  {
   "cell_type": "markdown",
   "metadata": {},
   "source": [
    "## Training"
   ]
  },
  {
   "cell_type": "code",
   "execution_count": 25,
   "metadata": {},
   "outputs": [
    {
     "data": {
      "text/plain": [
       "((43786,), (4866,))"
      ]
     },
     "execution_count": 25,
     "metadata": {},
     "output_type": "execute_result"
    }
   ],
   "source": [
    "X = train_df['text'].values\n",
    "y = train_df['label'].values\n",
    "X_train, X_test, y_train, y_test = train_test_split(X, y, test_size=TEST_SIZE, stratify=y, random_state=42)\n",
    "X_train.shape, X_test.shape"
   ]
  },
  {
   "cell_type": "code",
   "execution_count": 26,
   "metadata": {},
   "outputs": [],
   "source": [
    "tfidf_vectorizer = TfidfVectorizer(ngram_range=NGRAM_RANGE, smooth_idf=True, preprocessor=preprocess, tokenizer=tokenize, token_pattern=None)\n",
    "# Uncomment for default TfidfVectorizer\n",
    "# tfidf_vectorizer = TfidfVectorizer(ngram_range=NGRAM_RANGE, smooth_idf=True)"
   ]
  },
  {
   "cell_type": "code",
   "execution_count": 27,
   "metadata": {},
   "outputs": [
    {
     "name": "stdout",
     "output_type": "stream",
     "text": [
      "Vocabulary size: 287057\n",
      "['0' '00' '000' '0000' '000000' '00000000' '00000000000000'\n",
      " '0000000000000001834' '00000000001' '0000000001ounce' '000000003'\n",
      " '00000001' '0000000rom' '0000001' '0000004' '000001' '00000138'\n",
      " '00000153' '00000186' '000002' '000004' '000005' '000006' '0000068'\n",
      " '00001' '00001010' '000013s' '000015' '000016' '00003' '00004' '00005'\n",
      " '00007' '0000gmt' '0000hrs' '0001' '00010'\n",
      " '00010010101010101010101010101010' '00010052' '0001111' '000125' '00016'\n",
      " '00016925' '000185' '0001er' '0001ers' '0001erspredictable' '0001that'\n",
      " '0001which' '00020004' '0003' '00030' '00033' '00034' '0004' '00049'\n",
      " '0005' '00050860' '00053' '000567kln00067q' '0006' '0007' '00071'\n",
      " '0007149' '0008' '00080' '000fold' '000s' '000x' '001' '0010' '00100000'\n",
      " '00100001' '001000011011010101010101010101010101010010' '00101110' '0015'\n",
      " '0016' '0018' '0019' '001as' '001delivering' '001ers' '001essentially'\n",
      " '001mwcm2' '001s' '001same' '001that' '001unfuknbeeeleeevable' '002'\n",
      " '0021' '00226' '0025' '002ppm' '003' '0030' '0034' '0035' '0036gl'\n",
      " '0037mgl' '004' '0040' '004163' '0043' '0045' '004sec' '005' '0050'\n",
      " '0055mm' '0056' '0057' '0059' '005959' '005kwh' '005ml' '006' '0060'\n",
      " '0061' '00667' '007' '0070' '0072247' '0073735963' '0073839' '007413'\n",
      " '0075' '0077' '007f' '008' '008013kwh' '0084' '0085' '0086667' '00893'\n",
      " '009' '0092348079157097' '009siam' '00s' '01' '010' '0100' '01000001'\n",
      " '0100010' '01001000' '0101010' '01010111' '01011950' '0102' '01065537365'\n",
      " '011' '0110']\n"
     ]
    }
   ],
   "source": [
    "X_train_tfidf = tfidf_vectorizer.fit_transform(X_train)\n",
    "feature_names = tfidf_vectorizer.get_feature_names_out()\n",
    "print(f\"Vocabulary size: {len(feature_names)}\")\n",
    "print(feature_names[:150])"
   ]
  },
  {
   "cell_type": "code",
   "execution_count": 28,
   "metadata": {},
   "outputs": [
    {
     "name": "stdout",
     "output_type": "stream",
     "text": [
      "(43786, 287057)\n",
      "  (0, 19243)\t0.06228037137564887\n",
      "  (0, 17490)\t0.047131398921413464\n",
      "  (0, 21182)\t0.06228037137564887\n",
      "  (0, 213159)\t0.022438264955753927\n",
      "  (0, 48866)\t0.043107901331845395\n",
      "  (0, 29994)\t0.03497361987001771\n",
      "  (0, 54665)\t0.017491060155421477\n",
      "  (0, 56016)\t0.016107396006457345\n",
      "  (0, 34728)\t0.048959900575351684\n",
      "  (0, 6680)\t0.018517857479427826\n",
      "  (0, 630)\t0.018009742697625838\n",
      "  (0, 163447)\t0.021167670007759626\n",
      "  (0, 279676)\t0.027837730905439256\n",
      "  (0, 173365)\t0.07770955198058324\n",
      "  (0, 4836)\t0.037897970811578245\n",
      "  (0, 14640)\t0.02061631588966255\n",
      "  (0, 56536)\t0.029259568056674932\n",
      "  (0, 94314)\t0.011674792652959566\n",
      "  (0, 66111)\t0.02906307540372125\n",
      "  (0, 258015)\t0.056877835687428116\n",
      "  (0, 213503)\t0.015154253465198171\n",
      "  (0, 52731)\t0.008114416114198593\n",
      "  (0, 134090)\t0.03645305696911107\n",
      "  (0, 42247)\t0.012222576232641578\n",
      "  (0, 136050)\t0.024303535980486433\n",
      "  :\t:\n",
      "  (43785, 187968)\t0.03801152260274759\n",
      "  (43785, 103791)\t0.02791798374294524\n",
      "  (43785, 34081)\t0.05821512825753399\n",
      "  (43785, 151482)\t0.035127106615972285\n",
      "  (43785, 172189)\t0.013223694718652656\n",
      "  (43785, 111865)\t0.04836958042712829\n",
      "  (43785, 235303)\t0.02675529297374221\n",
      "  (43785, 258335)\t0.05749264521409228\n",
      "  (43785, 29157)\t0.011229496810661984\n",
      "  (43785, 139546)\t0.009631885505794389\n",
      "  (43785, 246073)\t0.01794560696824662\n",
      "  (43785, 35782)\t0.010492205496489663\n",
      "  (43785, 29462)\t0.08415114768879706\n",
      "  (43785, 134543)\t0.11110124329204908\n",
      "  (43785, 20344)\t0.0994731632958969\n",
      "  (43785, 253458)\t0.018003232494352258\n",
      "  (43785, 52403)\t0.024064482251644856\n",
      "  (43785, 278326)\t0.013843734530065134\n",
      "  (43785, 186169)\t0.11602808409035406\n",
      "  (43785, 253805)\t0.1043823885246389\n",
      "  (43785, 283939)\t0.04212291187541462\n",
      "  (43785, 117398)\t0.034011164668197945\n",
      "  (43785, 140470)\t0.06817257440259929\n",
      "  (43785, 191585)\t0.014860100764845284\n",
      "  (43785, 280201)\t0.01000751428741925\n"
     ]
    }
   ],
   "source": [
    "print(X_train_tfidf.shape)\n",
    "print(X_train_tfidf)"
   ]
  },
  {
   "cell_type": "code",
   "execution_count": 29,
   "metadata": {},
   "outputs": [
    {
     "name": "stdout",
     "output_type": "stream",
     "text": [
      "Accuracy: 0.9831681359338601\n",
      "F1 score: 0.9820999113739548\n"
     ]
    },
    {
     "name": "stderr",
     "output_type": "stream",
     "text": [
      "/Users/danelynn/opt/anaconda3/lib/python3.9/site-packages/sklearn/linear_model/_logistic.py:444: ConvergenceWarning: lbfgs failed to converge (status=1):\n",
      "STOP: TOTAL NO. of ITERATIONS REACHED LIMIT.\n",
      "\n",
      "Increase the number of iterations (max_iter) or scale the data as shown in:\n",
      "    https://scikit-learn.org/stable/modules/preprocessing.html\n",
      "Please also refer to the documentation for alternative solver options:\n",
      "    https://scikit-learn.org/stable/modules/linear_model.html#logistic-regression\n",
      "  n_iter_i = _check_optimize_result(\n"
     ]
    }
   ],
   "source": [
    "clf = LogisticRegression(random_state=0, max_iter=200).fit(X_train_tfidf, y_train)\n",
    "y_pred = clf.predict(X_train_tfidf)\n",
    "print(f\"Accuracy: {accuracy_score(y_train, y_pred)}\")\n",
    "print(f\"F1 score: {f1_score(y_train, y_pred, average='macro')}\")"
   ]
  },
  {
   "cell_type": "markdown",
   "metadata": {},
   "source": [
    "## Testing"
   ]
  },
  {
   "cell_type": "code",
   "execution_count": 30,
   "metadata": {},
   "outputs": [
    {
     "name": "stdout",
     "output_type": "stream",
     "text": [
      "Accuracy: 0.959515002055076\n",
      "F1 score: 0.958245192956545\n"
     ]
    }
   ],
   "source": [
    "X_test_tfidf = tfidf_vectorizer.transform(X_test)\n",
    "y_pred = clf.predict(X_test_tfidf)\n",
    "print(f\"Accuracy: {accuracy_score(y_test, y_pred)}\")\n",
    "print(f\"F1 score: {f1_score(y_test, y_pred, average='macro')}\")"
   ]
  },
  {
   "cell_type": "markdown",
   "metadata": {},
   "source": [
    "## Validation"
   ]
  },
  {
   "cell_type": "code",
   "execution_count": 31,
   "metadata": {},
   "outputs": [
    {
     "data": {
      "text/plain": [
       "array([3, 2])"
      ]
     },
     "execution_count": 31,
     "metadata": {},
     "output_type": "execute_result"
    }
   ],
   "source": [
    "# Label 1\n",
    "satire_sentence = \"If voting changed anything, they would make it illegal.\"\t\t\n",
    "\n",
    "# Label 2\n",
    "hoax_sentence = \"In a recent turn of events, Obama has declared that he will be joining the Republican Party, partnering with Donald Trump.\"\t\n",
    "\n",
    "X_val = [satire_sentence, hoax_sentence]\n",
    "X_test_tfidf = tfidf_vectorizer.transform(X_val)\n",
    "y_pred_val = clf.predict(X_test_tfidf)\n",
    "y_pred_val"
   ]
  },
  {
   "cell_type": "code",
   "execution_count": 32,
   "metadata": {},
   "outputs": [
    {
     "name": "stdout",
     "output_type": "stream",
     "text": [
      "No. test samples (all classes): 3000\n"
     ]
    },
    {
     "data": {
      "text/html": [
       "<div>\n",
       "<style scoped>\n",
       "    .dataframe tbody tr th:only-of-type {\n",
       "        vertical-align: middle;\n",
       "    }\n",
       "\n",
       "    .dataframe tbody tr th {\n",
       "        vertical-align: top;\n",
       "    }\n",
       "\n",
       "    .dataframe thead th {\n",
       "        text-align: right;\n",
       "    }\n",
       "</style>\n",
       "<table border=\"1\" class=\"dataframe\">\n",
       "  <thead>\n",
       "    <tr style=\"text-align: right;\">\n",
       "      <th></th>\n",
       "      <th>label</th>\n",
       "      <th>text</th>\n",
       "    </tr>\n",
       "  </thead>\n",
       "  <tbody>\n",
       "    <tr>\n",
       "      <th>294</th>\n",
       "      <td>1</td>\n",
       "      <td>A trio of Republican senators today blasted U....</td>\n",
       "    </tr>\n",
       "    <tr>\n",
       "      <th>448</th>\n",
       "      <td>1</td>\n",
       "      <td>President Obamas handling of controversies abo...</td>\n",
       "    </tr>\n",
       "    <tr>\n",
       "      <th>979</th>\n",
       "      <td>2</td>\n",
       "      <td>[Watch] Louis Farrakhan Calls Rudy Guiliani A ...</td>\n",
       "    </tr>\n",
       "    <tr>\n",
       "      <th>449</th>\n",
       "      <td>1</td>\n",
       "      <td>In a potential stumbling block for his Preside...</td>\n",
       "    </tr>\n",
       "    <tr>\n",
       "      <th>1955</th>\n",
       "      <td>3</td>\n",
       "      <td>In order to avoid completely losing their bus...</td>\n",
       "    </tr>\n",
       "  </tbody>\n",
       "</table>\n",
       "</div>"
      ],
      "text/plain": [
       "      label                                               text\n",
       "294       1  A trio of Republican senators today blasted U....\n",
       "448       1  President Obamas handling of controversies abo...\n",
       "979       2  [Watch] Louis Farrakhan Calls Rudy Guiliani A ...\n",
       "449       1  In a potential stumbling block for his Preside...\n",
       "1955      3   In order to avoid completely losing their bus..."
      ]
     },
     "execution_count": 32,
     "metadata": {},
     "output_type": "execute_result"
    }
   ],
   "source": [
    "test_df = pd.read_csv('raw_data/balancedtest.csv', header=None, names=['label', 'text'])\n",
    "print(f\"No. test samples (all classes): {len(test_df)}\")\n",
    "test_df.sample(5)"
   ]
  },
  {
   "cell_type": "code",
   "execution_count": 33,
   "metadata": {},
   "outputs": [
    {
     "name": "stdout",
     "output_type": "stream",
     "text": [
      "No. test samples (classes 1 and 2): 1500\n"
     ]
    }
   ],
   "source": [
    "test_subset_df = test_df[test_df['label'].isin([1, 2])]\n",
    "print(f\"No. test samples (classes 1 and 2): {len(test_subset_df)}\")"
   ]
  },
  {
   "cell_type": "code",
   "execution_count": 34,
   "metadata": {},
   "outputs": [
    {
     "data": {
      "text/plain": [
       "(1500, 287057)"
      ]
     },
     "execution_count": 34,
     "metadata": {},
     "output_type": "execute_result"
    }
   ],
   "source": [
    "X_val = test_subset_df['text'].values\n",
    "y_val = test_subset_df['label'].values\n",
    "X_val_tfidf = tfidf_vectorizer.transform(X_val)\n",
    "X_val_tfidf.shape"
   ]
  },
  {
   "cell_type": "code",
   "execution_count": 35,
   "metadata": {},
   "outputs": [
    {
     "name": "stdout",
     "output_type": "stream",
     "text": [
      "Accuracy: 0.6073333333333333\n",
      "F1 score: 0.3523116806887106\n"
     ]
    }
   ],
   "source": [
    "y_pred_val = clf.predict(X_val_tfidf)\n",
    "print(f\"Accuracy: {accuracy_score(y_val, y_pred_val)}\")\n",
    "print(f\"F1 score: {f1_score(y_val, y_pred_val, average='macro')}\")"
   ]
  },
  {
   "cell_type": "code",
   "execution_count": 37,
   "metadata": {},
   "outputs": [
    {
     "name": "stdout",
     "output_type": "stream",
     "text": [
      "              precision    recall  f1-score   support\n",
      "\n",
      "      satire       0.92      0.83      0.88       750\n",
      "        hoax       0.88      0.38      0.53       750\n",
      "  propaganda       0.00      0.00      0.00         0\n",
      "    reliable       0.00      0.00      0.00         0\n",
      "\n",
      "    accuracy                           0.61      1500\n",
      "   macro avg       0.45      0.30      0.35      1500\n",
      "weighted avg       0.90      0.61      0.70      1500\n",
      "\n"
     ]
    },
    {
     "name": "stderr",
     "output_type": "stream",
     "text": [
      "/Users/danelynn/opt/anaconda3/lib/python3.9/site-packages/sklearn/metrics/_classification.py:1327: UndefinedMetricWarning: Recall and F-score are ill-defined and being set to 0.0 in labels with no true samples. Use `zero_division` parameter to control this behavior.\n",
      "  _warn_prf(average, modifier, msg_start, len(result))\n",
      "/Users/danelynn/opt/anaconda3/lib/python3.9/site-packages/sklearn/metrics/_classification.py:1327: UndefinedMetricWarning: Recall and F-score are ill-defined and being set to 0.0 in labels with no true samples. Use `zero_division` parameter to control this behavior.\n",
      "  _warn_prf(average, modifier, msg_start, len(result))\n",
      "/Users/danelynn/opt/anaconda3/lib/python3.9/site-packages/sklearn/metrics/_classification.py:1327: UndefinedMetricWarning: Recall and F-score are ill-defined and being set to 0.0 in labels with no true samples. Use `zero_division` parameter to control this behavior.\n",
      "  _warn_prf(average, modifier, msg_start, len(result))\n"
     ]
    }
   ],
   "source": [
    "print(classification_report(y_val, y_pred_val, target_names=['satire', 'hoax', 'propaganda', 'reliable']))"
   ]
  },
  {
   "cell_type": "code",
   "execution_count": 38,
   "metadata": {},
   "outputs": [
    {
     "data": {
      "image/png": "[encoded data removed]",
      "text/plain": [
       "<Figure size 432x432 with 2 Axes>"
      ]
     },
     "metadata": {
      "needs_background": "light"
     },
     "output_type": "display_data"
    }
   ],
   "source": [
    "cm = confusion_matrix(y_val, y_pred_val)\n",
    "plt.figure(figsize=(6, 6))\n",
    "sns.heatmap(cm, annot=True, fmt=\"d\")\n",
    "plt.title(\"Confusion matrix\")\n",
    "plt.ylabel('True label')\n",
    "plt.xlabel('Predicted label')\n",
    "plt.show()\t"
   ]
  },
  {
   "cell_type": "code",
   "execution_count": null,
   "metadata": {},
   "outputs": [],
   "source": []
  }
 ],
 "metadata": {
  "kernelspec": {
   "display_name": "Python 3 (ipykernel)",
   "language": "python",
   "name": "python3"
  },
  "language_info": {
   "codemirror_mode": {
    "name": "ipython",
    "version": 3
   },
   "file_extension": ".py",
   "mimetype": "text/x-python",
   "name": "python",
   "nbconvert_exporter": "python",
   "pygments_lexer": "ipython3",
   "version": "3.9.9"
  },
  "vscode": {
   "interpreter": {
    "hash": "a7e653ca629f27ebde81528cc52bfe051277467cb10f3ef3e48891bb1c90ba85"
   }
  }
 },
 "nbformat": 4,
 "nbformat_minor": 2
}
