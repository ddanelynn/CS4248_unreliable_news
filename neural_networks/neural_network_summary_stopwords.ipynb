{
  "cells": [
    {
      "cell_type": "markdown",
      "metadata": {
        "id": "KT9cPdx6yz3C"
      },
      "source": [
        "# CS4248 Project - Labelled Unreliable News (LUN)"
      ]
    },
    {
      "cell_type": "markdown",
      "metadata": {
        "id": "hfmJ2izkyz3E"
      },
      "source": [
        "## Imports"
      ]
    },
    {
      "cell_type": "code",
      "execution_count": 1,
      "metadata": {
        "colab": {
          "base_uri": "https://localhost:8080/"
        },
        "id": "YzgZwO2-__Sm",
        "outputId": "01be95b3-e94a-4e2a-fcc7-ddaf8d429548"
      },
      "outputs": [],
      "source": [
        "# from google.colab import drive\n",
        "# drive.mount('/content/drive')"
      ]
    },
    {
      "cell_type": "code",
      "execution_count": null,
      "metadata": {
        "colab": {
          "base_uri": "https://localhost:8080/"
        },
        "id": "jNu-583Eyz3E",
        "outputId": "2465a1d0-ea8c-4ced-ed64-baa0746d9a87"
      },
      "outputs": [
        {
          "name": "stderr",
          "output_type": "stream",
          "text": [
            "[nltk_data] Downloading package stopwords to /root/nltk_data...\n",
            "[nltk_data]   Package stopwords is already up-to-date!\n",
            "[nltk_data] Downloading package punkt to /root/nltk_data...\n",
            "[nltk_data]   Package punkt is already up-to-date!\n",
            "[nltk_data] Downloading package wordnet to /root/nltk_data...\n",
            "[nltk_data]   Package wordnet is already up-to-date!\n"
          ]
        }
      ],
      "source": [
        "import matplotlib.pyplot as plt\n",
        "import nltk\n",
        "import numpy as np\n",
        "import pandas as pd\n",
        "import seaborn as sns\n",
        "import string\n",
        "nltk.download('stopwords')\n",
        "nltk.download('punkt')\n",
        "nltk.download('wordnet')\n",
        "\n",
        "from nltk.corpus import stopwords\n",
        "from nltk.stem import PorterStemmer, WordNetLemmatizer\n",
        "from nltk.tokenize import word_tokenize\n",
        "from sklearn.metrics import f1_score, accuracy_score, confusion_matrix, classification_report\n",
        "from sklearn.model_selection import train_test_split\n",
        "\n",
        "import warnings\n",
        "warnings.filterwarnings('ignore')"
      ]
    },
    {
      "cell_type": "code",
      "execution_count": null,
      "metadata": {
        "colab": {
          "base_uri": "https://localhost:8080/"
        },
        "id": "-x8WCs7x0-Hi",
        "outputId": "f4e0b52a-c050-4189-a218-dfe781f49df3"
      },
      "outputs": [
        {
          "name": "stdout",
          "output_type": "stream",
          "text": [
            "Looking in indexes: https://pypi.org/simple, https://us-python.pkg.dev/colab-wheels/public/simple/\n",
            "Requirement already satisfied: sumy in /usr/local/lib/python3.9/dist-packages (0.11.0)\n",
            "Requirement already satisfied: requests>=2.7.0 in /usr/local/lib/python3.9/dist-packages (from sumy) (2.27.1)\n",
            "Requirement already satisfied: nltk>=3.0.2 in /usr/local/lib/python3.9/dist-packages (from sumy) (3.8.1)\n",
            "Requirement already satisfied: docopt<0.7,>=0.6.1 in /usr/local/lib/python3.9/dist-packages (from sumy) (0.6.2)\n",
            "Requirement already satisfied: pycountry>=18.2.23 in /usr/local/lib/python3.9/dist-packages (from sumy) (22.3.5)\n",
            "Requirement already satisfied: breadability>=0.1.20 in /usr/local/lib/python3.9/dist-packages (from sumy) (0.1.20)\n",
            "Requirement already satisfied: chardet in /usr/local/lib/python3.9/dist-packages (from breadability>=0.1.20->sumy) (4.0.0)\n",
            "Requirement already satisfied: lxml>=2.0 in /usr/local/lib/python3.9/dist-packages (from breadability>=0.1.20->sumy) (4.9.2)\n",
            "Requirement already satisfied: regex>=2021.8.3 in /usr/local/lib/python3.9/dist-packages (from nltk>=3.0.2->sumy) (2022.10.31)\n",
            "Requirement already satisfied: tqdm in /usr/local/lib/python3.9/dist-packages (from nltk>=3.0.2->sumy) (4.65.0)\n",
            "Requirement already satisfied: click in /usr/local/lib/python3.9/dist-packages (from nltk>=3.0.2->sumy) (8.1.3)\n",
            "Requirement already satisfied: joblib in /usr/local/lib/python3.9/dist-packages (from nltk>=3.0.2->sumy) (1.1.1)\n",
            "Requirement already satisfied: setuptools in /usr/local/lib/python3.9/dist-packages (from pycountry>=18.2.23->sumy) (67.6.1)\n",
            "Requirement already satisfied: certifi>=2017.4.17 in /usr/local/lib/python3.9/dist-packages (from requests>=2.7.0->sumy) (2022.12.7)\n",
            "Requirement already satisfied: idna<4,>=2.5 in /usr/local/lib/python3.9/dist-packages (from requests>=2.7.0->sumy) (3.4)\n",
            "Requirement already satisfied: urllib3<1.27,>=1.21.1 in /usr/local/lib/python3.9/dist-packages (from requests>=2.7.0->sumy) (1.26.15)\n",
            "Requirement already satisfied: charset-normalizer~=2.0.0 in /usr/local/lib/python3.9/dist-packages (from requests>=2.7.0->sumy) (2.0.12)\n"
          ]
        }
      ],
      "source": [
        "!pip install sumy"
      ]
    },
    {
      "cell_type": "code",
      "execution_count": null,
      "metadata": {
        "id": "FaMfycXayz3F"
      },
      "outputs": [],
      "source": [
        "# A list of contractions from http://stackoverflow.com/questions/19790188/expanding-english-language-contractions-in-python\n",
        "contractions = { \n",
        "    \"ain't\": \"am not\",\n",
        "    \"aren't\": \"are not\",\n",
        "    \"can't\": \"cannot\",\n",
        "    \"can't've\": \"cannot have\",\n",
        "    \"'cause\": \"because\",\n",
        "    \"could've\": \"could have\",\n",
        "    \"couldn't\": \"could not\",\n",
        "    \"couldn't've\": \"could not have\",\n",
        "    \"didn't\": \"did not\",\n",
        "    \"doesn't\": \"does not\",\n",
        "    \"don't\": \"do not\",\n",
        "    \"hadn't\": \"had not\",\n",
        "    \"hadn't've\": \"had not have\",\n",
        "    \"hasn't\": \"has not\",\n",
        "    \"haven't\": \"have not\",\n",
        "    \"he'd\": \"he would\",\n",
        "    \"he'd've\": \"he would have\",\n",
        "    \"he'll\": \"he will\",\n",
        "    \"he's\": \"he is\",\n",
        "    \"how'd\": \"how did\",\n",
        "    \"how'll\": \"how will\",\n",
        "    \"how's\": \"how is\",\n",
        "    \"i'd\": \"i would\",\n",
        "    \"i'll\": \"i will\",\n",
        "    \"i'm\": \"i am\",\n",
        "    \"i've\": \"i have\",\n",
        "    \"isn't\": \"is not\",\n",
        "    \"it'd\": \"it would\",\n",
        "    \"it'll\": \"it will\",\n",
        "    \"it's\": \"it is\",\n",
        "    \"let's\": \"let us\",\n",
        "    \"ma'am\": \"madam\",\n",
        "    \"mayn't\": \"may not\",\n",
        "    \"might've\": \"might have\",\n",
        "    \"mightn't\": \"might not\",\n",
        "    \"must've\": \"must have\",\n",
        "    \"mustn't\": \"must not\",\n",
        "    \"needn't\": \"need not\",\n",
        "    \"oughtn't\": \"ought not\",\n",
        "    \"shan't\": \"shall not\",\n",
        "    \"sha'n't\": \"shall not\",\n",
        "    \"she'd\": \"she would\",\n",
        "    \"she'll\": \"she will\",\n",
        "    \"she's\": \"she is\",\n",
        "    \"should've\": \"should have\",\n",
        "    \"shouldn't\": \"should not\",\n",
        "    \"that'd\": \"that would\",\n",
        "    \"that's\": \"that is\",\n",
        "    \"there'd\": \"there had\",\n",
        "    \"there's\": \"there is\",\n",
        "    \"they'd\": \"they would\",\n",
        "    \"they'll\": \"they will\",\n",
        "    \"they're\": \"they are\",\n",
        "    \"they've\": \"they have\",\n",
        "    \"wasn't\": \"was not\",\n",
        "    \"we'd\": \"we would\",\n",
        "    \"we'll\": \"we will\",\n",
        "    \"we're\": \"we are\",\n",
        "    \"we've\": \"we have\",\n",
        "    \"weren't\": \"were not\",\n",
        "    \"what'll\": \"what will\",\n",
        "    \"what're\": \"what are\",\n",
        "    \"what's\": \"what is\",\n",
        "    \"what've\": \"what have\",\n",
        "    \"where'd\": \"where did\",\n",
        "    \"where's\": \"where is\",\n",
        "    \"who'll\": \"who will\",\n",
        "    \"who's\": \"who is\",\n",
        "    \"won't\": \"will not\",\n",
        "    \"wouldn't\": \"would not\",\n",
        "    \"you'd\": \"you would\",\n",
        "    \"you'll\": \"you will\",\n",
        "    \"you're\": \"you are\"\n",
        "}\n",
        "\n",
        "stop_words = set(stopwords.words('english'))\n",
        "# stemmer = PorterStemmer()\n",
        "lemmatizer = WordNetLemmatizer()\n",
        "stemmer = None\n",
        "# lemmatizer = None\n",
        "\n",
        "TEST_SIZE = 0.1"
      ]
    },
    {
      "cell_type": "markdown",
      "metadata": {
        "id": "H7zj33zFyz3F"
      },
      "source": [
        "## Helper Functions"
      ]
    },
    {
      "cell_type": "code",
      "execution_count": null,
      "metadata": {
        "id": "sxLV3bulyz3G"
      },
      "outputs": [],
      "source": [
        "def preprocess(sentence, lower_case=True, remove_punctuation=True, replace_contractions=True):\n",
        "    if lower_case:\n",
        "        sentence = sentence.lower()\n",
        "    if remove_punctuation:\n",
        "        sentence = sentence.translate(str.maketrans('', '', string.punctuation))\n",
        "    if replace_contractions:\n",
        "        news = sentence.split()\n",
        "        new_news = []\n",
        "        for word in news:\n",
        "            if word in contractions:\n",
        "                new_news.append(contractions[word])\n",
        "            else:\n",
        "                new_news.append(word)\n",
        "        sentence = \" \".join(new_news)\n",
        "    return sentence"
      ]
    },
    {
      "cell_type": "code",
      "execution_count": null,
      "metadata": {
        "id": "l2XazvNeyz3G"
      },
      "outputs": [],
      "source": [
        "def tokenize(sentence, stemmer=stemmer, lemmatizer=lemmatizer, remove_stop_words=True):\n",
        "    tokens = word_tokenize(sentence)\n",
        "    \n",
        "    if remove_stop_words:\n",
        "        tokens = [token for token in tokens if token not in stop_words]\n",
        "    if stemmer:\n",
        "        tokens = [stemmer.stem(token) for token in tokens]\n",
        "    if lemmatizer:\n",
        "        tokens = [lemmatizer.lemmatize(token) for token in tokens]\n",
        "        \n",
        "    return tokens"
      ]
    },
    {
      "cell_type": "markdown",
      "metadata": {
        "id": "7RxEsstXyz3G"
      },
      "source": [
        "## Load Data"
      ]
    },
    {
      "cell_type": "code",
      "execution_count": null,
      "metadata": {
        "colab": {
          "base_uri": "https://localhost:8080/",
          "height": 206
        },
        "id": "G2g1sndeyz3G",
        "outputId": "619bb1a4-cb0f-4d24-ff74-940ab60925b0"
      },
      "outputs": [
        {
          "data": {
            "text/html": [
              "\n",
              "  <div id=\"df-f4cb27f6-a04b-453a-afab-18d7dd69bb48\">\n",
              "    <div class=\"colab-df-container\">\n",
              "      <div>\n",
              "<style scoped>\n",
              "    .dataframe tbody tr th:only-of-type {\n",
              "        vertical-align: middle;\n",
              "    }\n",
              "\n",
              "    .dataframe tbody tr th {\n",
              "        vertical-align: top;\n",
              "    }\n",
              "\n",
              "    .dataframe thead th {\n",
              "        text-align: right;\n",
              "    }\n",
              "</style>\n",
              "<table border=\"1\" class=\"dataframe\">\n",
              "  <thead>\n",
              "    <tr style=\"text-align: right;\">\n",
              "      <th></th>\n",
              "      <th>label</th>\n",
              "      <th>text</th>\n",
              "    </tr>\n",
              "  </thead>\n",
              "  <tbody>\n",
              "    <tr>\n",
              "      <th>0</th>\n",
              "      <td>1</td>\n",
              "      <td>A little less than a decade ago, hockey fans w...</td>\n",
              "    </tr>\n",
              "    <tr>\n",
              "      <th>1</th>\n",
              "      <td>1</td>\n",
              "      <td>The writers of the HBO series The Sopranos too...</td>\n",
              "    </tr>\n",
              "    <tr>\n",
              "      <th>2</th>\n",
              "      <td>1</td>\n",
              "      <td>Despite claims from the TV news outlet to offe...</td>\n",
              "    </tr>\n",
              "    <tr>\n",
              "      <th>3</th>\n",
              "      <td>1</td>\n",
              "      <td>After receiving 'subpar' service and experienc...</td>\n",
              "    </tr>\n",
              "    <tr>\n",
              "      <th>4</th>\n",
              "      <td>1</td>\n",
              "      <td>After watching his beloved Seattle Mariners pr...</td>\n",
              "    </tr>\n",
              "  </tbody>\n",
              "</table>\n",
              "</div>\n",
              "      <button class=\"colab-df-convert\" onclick=\"convertToInteractive('df-f4cb27f6-a04b-453a-afab-18d7dd69bb48')\"\n",
              "              title=\"Convert this dataframe to an interactive table.\"\n",
              "              style=\"display:none;\">\n",
              "        \n",
              "  <svg xmlns=\"http://www.w3.org/2000/svg\" height=\"24px\"viewBox=\"0 0 24 24\"\n",
              "       width=\"24px\">\n",
              "    <path d=\"M0 0h24v24H0V0z\" fill=\"none\"/>\n",
              "    <path d=\"M18.56 5.44l.94 2.06.94-2.06 2.06-.94-2.06-.94-.94-2.06-.94 2.06-2.06.94zm-11 1L8.5 8.5l.94-2.06 2.06-.94-2.06-.94L8.5 2.5l-.94 2.06-2.06.94zm10 10l.94 2.06.94-2.06 2.06-.94-2.06-.94-.94-2.06-.94 2.06-2.06.94z\"/><path d=\"M17.41 7.96l-1.37-1.37c-.4-.4-.92-.59-1.43-.59-.52 0-1.04.2-1.43.59L10.3 9.45l-7.72 7.72c-.78.78-.78 2.05 0 2.83L4 21.41c.39.39.9.59 1.41.59.51 0 1.02-.2 1.41-.59l7.78-7.78 2.81-2.81c.8-.78.8-2.07 0-2.86zM5.41 20L4 18.59l7.72-7.72 1.47 1.35L5.41 20z\"/>\n",
              "  </svg>\n",
              "      </button>\n",
              "      \n",
              "  <style>\n",
              "    .colab-df-container {\n",
              "      display:flex;\n",
              "      flex-wrap:wrap;\n",
              "      gap: 12px;\n",
              "    }\n",
              "\n",
              "    .colab-df-convert {\n",
              "      background-color: #E8F0FE;\n",
              "      border: none;\n",
              "      border-radius: 50%;\n",
              "      cursor: pointer;\n",
              "      display: none;\n",
              "      fill: #1967D2;\n",
              "      height: 32px;\n",
              "      padding: 0 0 0 0;\n",
              "      width: 32px;\n",
              "    }\n",
              "\n",
              "    .colab-df-convert:hover {\n",
              "      background-color: #E2EBFA;\n",
              "      box-shadow: 0px 1px 2px rgba(60, 64, 67, 0.3), 0px 1px 3px 1px rgba(60, 64, 67, 0.15);\n",
              "      fill: #174EA6;\n",
              "    }\n",
              "\n",
              "    [theme=dark] .colab-df-convert {\n",
              "      background-color: #3B4455;\n",
              "      fill: #D2E3FC;\n",
              "    }\n",
              "\n",
              "    [theme=dark] .colab-df-convert:hover {\n",
              "      background-color: #434B5C;\n",
              "      box-shadow: 0px 1px 3px 1px rgba(0, 0, 0, 0.15);\n",
              "      filter: drop-shadow(0px 1px 2px rgba(0, 0, 0, 0.3));\n",
              "      fill: #FFFFFF;\n",
              "    }\n",
              "  </style>\n",
              "\n",
              "      <script>\n",
              "        const buttonEl =\n",
              "          document.querySelector('#df-f4cb27f6-a04b-453a-afab-18d7dd69bb48 button.colab-df-convert');\n",
              "        buttonEl.style.display =\n",
              "          google.colab.kernel.accessAllowed ? 'block' : 'none';\n",
              "\n",
              "        async function convertToInteractive(key) {\n",
              "          const element = document.querySelector('#df-f4cb27f6-a04b-453a-afab-18d7dd69bb48');\n",
              "          const dataTable =\n",
              "            await google.colab.kernel.invokeFunction('convertToInteractive',\n",
              "                                                     [key], {});\n",
              "          if (!dataTable) return;\n",
              "\n",
              "          const docLinkHtml = 'Like what you see? Visit the ' +\n",
              "            '<a target=\"_blank\" href=https://colab.research.google.com/notebooks/data_table.ipynb>data table notebook</a>'\n",
              "            + ' to learn more about interactive tables.';\n",
              "          element.innerHTML = '';\n",
              "          dataTable['output_type'] = 'display_data';\n",
              "          await google.colab.output.renderOutput(dataTable, element);\n",
              "          const docLink = document.createElement('div');\n",
              "          docLink.innerHTML = docLinkHtml;\n",
              "          element.appendChild(docLink);\n",
              "        }\n",
              "      </script>\n",
              "    </div>\n",
              "  </div>\n",
              "  "
            ],
            "text/plain": [
              "   label                                               text\n",
              "0      1  A little less than a decade ago, hockey fans w...\n",
              "1      1  The writers of the HBO series The Sopranos too...\n",
              "2      1  Despite claims from the TV news outlet to offe...\n",
              "3      1  After receiving 'subpar' service and experienc...\n",
              "4      1  After watching his beloved Seattle Mariners pr..."
            ]
          },
          "execution_count": 7,
          "metadata": {},
          "output_type": "execute_result"
        }
      ],
      "source": [
        "full_train_df = pd.read_csv('raw_data/fulltrain.csv', header=None)\n",
        "full_train_df.columns = ['label', 'text']\n",
        "full_train_df.head()"
      ]
    },
    {
      "cell_type": "code",
      "execution_count": null,
      "metadata": {
        "colab": {
          "base_uri": "https://localhost:8080/"
        },
        "id": "bqG92UA3yz3H",
        "outputId": "6e004926-c41c-4dc6-cd31-b0fbcd375558"
      },
      "outputs": [
        {
          "name": "stdout",
          "output_type": "stream",
          "text": [
            "No. training samples (all classes): 48652\n",
            "No. training samples (sampled classes): 12164\n"
          ]
        }
      ],
      "source": [
        "train_df = full_train_df.drop_duplicates(subset=['text'])\n",
        "print(f\"No. training samples (all classes): {len(train_df)}\")\n",
        "\n",
        "sample_df = train_df.groupby('label').apply(lambda x: x.sample(frac=0.25))\n",
        "print(f\"No. training samples (sampled classes): {len(sample_df)}\")\n"
      ]
    },
    {
      "cell_type": "markdown",
      "metadata": {
        "id": "aSgqHMjAyz3H"
      },
      "source": [
        "## Preprocessing"
      ]
    },
    {
      "cell_type": "code",
      "execution_count": null,
      "metadata": {
        "colab": {
          "base_uri": "https://localhost:8080/"
        },
        "id": "mq3wRABgyz3H",
        "outputId": "b9f00864-57a7-48b4-c89d-c19b4569419c"
      },
      "outputs": [
        {
          "name": "stdout",
          "output_type": "stream",
          "text": [
            "Before: Claiming that the third-grader refuses to acknowledge anyone elses involvement in the situation, sources confirmed Monday that egocentric 8-year-old Dylan Fielder blames the divorce of his parents entirely on himself. Dylan is preoccupied with the extremely selfish notion that hes the sole influence on his parents marital problems, insisting that he could have acted better or done more to make them get along, as if hes the only thing that matters in this situation, said Fielders school guidance counselor, Sharon Thomas, adding that the boy is so narcissistic that he quickly dismissed the idea that financial and psychological factors played a role in his parents recent divorce and failed to even consider that the couples deep-seated communication issues could possibly be more important than he is. Ive tried to make it evident to Dylan that theres more to his parents fighting and separation than just him, but frankly, hes too self-absorbed to see anything else. Thomas told reporters that she would not be surprised if Dylan thinks his fathers decision to give full custody to his mother completely revolved around him too. \n"
          ]
        }
      ],
      "source": [
        "from sklearn.preprocessing import OneHotEncoder\n",
        "from sklearn.feature_extraction.text import CountVectorizer\n",
        "\n",
        "encoder = OneHotEncoder(sparse=False)\n",
        "\n",
        "X = sample_df['text'].values\n",
        "y = encoder.fit_transform(sample_df[['label']])\n",
        "print(\"Before:\", X[0])"
      ]
    },
    {
      "cell_type": "code",
      "execution_count": null,
      "metadata": {
        "colab": {
          "base_uri": "https://localhost:8080/",
          "height": 272
        },
        "id": "Efwzn1a9yz3H",
        "outputId": "cb8fb9e1-2012-4253-8ad7-a15e8a54b98d"
      },
      "outputs": [
        {
          "data": {
            "text/html": [
              "\n",
              "  <div id=\"df-494d1c38-79b2-4e14-8c38-72d4ed235055\">\n",
              "    <div class=\"colab-df-container\">\n",
              "      <div>\n",
              "<style scoped>\n",
              "    .dataframe tbody tr th:only-of-type {\n",
              "        vertical-align: middle;\n",
              "    }\n",
              "\n",
              "    .dataframe tbody tr th {\n",
              "        vertical-align: top;\n",
              "    }\n",
              "\n",
              "    .dataframe thead th {\n",
              "        text-align: right;\n",
              "    }\n",
              "</style>\n",
              "<table border=\"1\" class=\"dataframe\">\n",
              "  <thead>\n",
              "    <tr style=\"text-align: right;\">\n",
              "      <th></th>\n",
              "      <th></th>\n",
              "      <th>label</th>\n",
              "      <th>text</th>\n",
              "    </tr>\n",
              "    <tr>\n",
              "      <th>label</th>\n",
              "      <th></th>\n",
              "      <th></th>\n",
              "      <th></th>\n",
              "    </tr>\n",
              "  </thead>\n",
              "  <tbody>\n",
              "    <tr>\n",
              "      <th rowspan=\"5\" valign=\"top\">1</th>\n",
              "      <th>11422</th>\n",
              "      <td>1</td>\n",
              "      <td>Claiming that the third-grader refuses to ackn...</td>\n",
              "    </tr>\n",
              "    <tr>\n",
              "      <th>1950</th>\n",
              "      <td>1</td>\n",
              "      <td>Steadfastly staring at his iPhone screen as th...</td>\n",
              "    </tr>\n",
              "    <tr>\n",
              "      <th>3505</th>\n",
              "      <td>1</td>\n",
              "      <td>This week the &lt;a href='http://www.theonion.com...</td>\n",
              "    </tr>\n",
              "    <tr>\n",
              "      <th>12362</th>\n",
              "      <td>1</td>\n",
              "      <td>In a historic United Nations summit Tuesday, t...</td>\n",
              "    </tr>\n",
              "    <tr>\n",
              "      <th>3116</th>\n",
              "      <td>1</td>\n",
              "      <td>A 24-minute, 10-store dadhunt came to an end M...</td>\n",
              "    </tr>\n",
              "  </tbody>\n",
              "</table>\n",
              "</div>\n",
              "      <button class=\"colab-df-convert\" onclick=\"convertToInteractive('df-494d1c38-79b2-4e14-8c38-72d4ed235055')\"\n",
              "              title=\"Convert this dataframe to an interactive table.\"\n",
              "              style=\"display:none;\">\n",
              "        \n",
              "  <svg xmlns=\"http://www.w3.org/2000/svg\" height=\"24px\"viewBox=\"0 0 24 24\"\n",
              "       width=\"24px\">\n",
              "    <path d=\"M0 0h24v24H0V0z\" fill=\"none\"/>\n",
              "    <path d=\"M18.56 5.44l.94 2.06.94-2.06 2.06-.94-2.06-.94-.94-2.06-.94 2.06-2.06.94zm-11 1L8.5 8.5l.94-2.06 2.06-.94-2.06-.94L8.5 2.5l-.94 2.06-2.06.94zm10 10l.94 2.06.94-2.06 2.06-.94-2.06-.94-.94-2.06-.94 2.06-2.06.94z\"/><path d=\"M17.41 7.96l-1.37-1.37c-.4-.4-.92-.59-1.43-.59-.52 0-1.04.2-1.43.59L10.3 9.45l-7.72 7.72c-.78.78-.78 2.05 0 2.83L4 21.41c.39.39.9.59 1.41.59.51 0 1.02-.2 1.41-.59l7.78-7.78 2.81-2.81c.8-.78.8-2.07 0-2.86zM5.41 20L4 18.59l7.72-7.72 1.47 1.35L5.41 20z\"/>\n",
              "  </svg>\n",
              "      </button>\n",
              "      \n",
              "  <style>\n",
              "    .colab-df-container {\n",
              "      display:flex;\n",
              "      flex-wrap:wrap;\n",
              "      gap: 12px;\n",
              "    }\n",
              "\n",
              "    .colab-df-convert {\n",
              "      background-color: #E8F0FE;\n",
              "      border: none;\n",
              "      border-radius: 50%;\n",
              "      cursor: pointer;\n",
              "      display: none;\n",
              "      fill: #1967D2;\n",
              "      height: 32px;\n",
              "      padding: 0 0 0 0;\n",
              "      width: 32px;\n",
              "    }\n",
              "\n",
              "    .colab-df-convert:hover {\n",
              "      background-color: #E2EBFA;\n",
              "      box-shadow: 0px 1px 2px rgba(60, 64, 67, 0.3), 0px 1px 3px 1px rgba(60, 64, 67, 0.15);\n",
              "      fill: #174EA6;\n",
              "    }\n",
              "\n",
              "    [theme=dark] .colab-df-convert {\n",
              "      background-color: #3B4455;\n",
              "      fill: #D2E3FC;\n",
              "    }\n",
              "\n",
              "    [theme=dark] .colab-df-convert:hover {\n",
              "      background-color: #434B5C;\n",
              "      box-shadow: 0px 1px 3px 1px rgba(0, 0, 0, 0.15);\n",
              "      filter: drop-shadow(0px 1px 2px rgba(0, 0, 0, 0.3));\n",
              "      fill: #FFFFFF;\n",
              "    }\n",
              "  </style>\n",
              "\n",
              "      <script>\n",
              "        const buttonEl =\n",
              "          document.querySelector('#df-494d1c38-79b2-4e14-8c38-72d4ed235055 button.colab-df-convert');\n",
              "        buttonEl.style.display =\n",
              "          google.colab.kernel.accessAllowed ? 'block' : 'none';\n",
              "\n",
              "        async function convertToInteractive(key) {\n",
              "          const element = document.querySelector('#df-494d1c38-79b2-4e14-8c38-72d4ed235055');\n",
              "          const dataTable =\n",
              "            await google.colab.kernel.invokeFunction('convertToInteractive',\n",
              "                                                     [key], {});\n",
              "          if (!dataTable) return;\n",
              "\n",
              "          const docLinkHtml = 'Like what you see? Visit the ' +\n",
              "            '<a target=\"_blank\" href=https://colab.research.google.com/notebooks/data_table.ipynb>data table notebook</a>'\n",
              "            + ' to learn more about interactive tables.';\n",
              "          element.innerHTML = '';\n",
              "          dataTable['output_type'] = 'display_data';\n",
              "          await google.colab.output.renderOutput(dataTable, element);\n",
              "          const docLink = document.createElement('div');\n",
              "          docLink.innerHTML = docLinkHtml;\n",
              "          element.appendChild(docLink);\n",
              "        }\n",
              "      </script>\n",
              "    </div>\n",
              "  </div>\n",
              "  "
            ],
            "text/plain": [
              "             label                                               text\n",
              "label                                                                \n",
              "1     11422      1  Claiming that the third-grader refuses to ackn...\n",
              "      1950       1  Steadfastly staring at his iPhone screen as th...\n",
              "      3505       1  This week the <a href='http://www.theonion.com...\n",
              "      12362      1  In a historic United Nations summit Tuesday, t...\n",
              "      3116       1  A 24-minute, 10-store dadhunt came to an end M..."
            ]
          },
          "metadata": {},
          "output_type": "display_data"
        },
        {
          "name": "stdout",
          "output_type": "stream",
          "text": [
            "[1. 0. 0. 0.] [0. 0. 0. 1.]\n"
          ]
        },
        {
          "data": {
            "text/plain": [
              "[array([1, 2, 3, 4])]"
            ]
          },
          "execution_count": 10,
          "metadata": {},
          "output_type": "execute_result"
        }
      ],
      "source": [
        "# Check labels assigned to categories\n",
        "display(sample_df.head())\n",
        "print(y[0], y[-1])\n",
        "encoder.categories_"
      ]
    },
    {
      "cell_type": "code",
      "execution_count": null,
      "metadata": {
        "id": "PXRcbdyGyz3H"
      },
      "outputs": [],
      "source": [
        "from sumy.summarizers.lsa import LsaSummarizer as Summarizer\n",
        "from sumy.nlp.tokenizers import Tokenizer\n",
        "from sumy.parsers.plaintext import PlaintextParser\n",
        "\n",
        "\n",
        "def summarize_text(text, num_sentences):\n",
        "    parser = PlaintextParser.from_string(text, Tokenizer(\"english\"))\n",
        "    summarizer = Summarizer()\n",
        "    summary = summarizer(parser.document, num_sentences)\n",
        "    return \" \".join([str(sentence) for sentence in summary])\n",
        "    \n",
        "# parser = PlaintextParser.from_string(X[0], Tokenizer(\"english\"))\n",
        "# summarizer = Summarizer()\n",
        "# num_sentences = 3\n",
        "# summary = summarizer(parser.document, num_sentences)\n",
        "\n",
        "# for sentence in summary:\n",
        "#     print(sentence)\n",
        "\n",
        "num_sentences = 10\n",
        "X = [summarize_text(text, num_sentences) for text in X]"
      ]
    },
    {
      "cell_type": "code",
      "execution_count": null,
      "metadata": {
        "colab": {
          "base_uri": "https://localhost:8080/"
        },
        "id": "8g0cotwtyz3H",
        "outputId": "9b831ce3-1e6e-4e13-e38a-4d3cc9550dc3"
      },
      "outputs": [
        {
          "name": "stdout",
          "output_type": "stream",
          "text": [
            "After: ['claiming', 'thirdgrader', 'refuse', 'acknowledge', 'anyone', 'el', 'involvement', 'situation', 'source', 'confirmed', 'monday', 'egocentric', '8yearold', 'dylan', 'fielder', 'blame', 'divorce', 'parent', 'entirely', 'dylan', 'preoccupied', 'extremely', 'selfish', 'notion', 'he', 'sole', 'influence', 'parent', 'marital', 'problem', 'insisting', 'could', 'acted', 'better', 'done', 'make', 'get', 'along', 'he', 'thing', 'matter', 'situation', 'said', 'fielder', 'school', 'guidance', 'counselor', 'sharon', 'thomas', 'adding', 'boy', 'narcissistic', 'quickly', 'dismissed', 'idea', 'financial', 'psychological', 'factor', 'played', 'role', 'parent', 'recent', 'divorce', 'failed', 'even', 'consider', 'couple', 'deepseated', 'communication', 'issue', 'could', 'possibly', 'important', 'ive', 'tried', 'make', 'evident', 'dylan', 'there', 'parent', 'fighting', 'separation', 'frankly', 'he', 'selfabsorbed', 'see', 'anything', 'else', 'thomas', 'told', 'reporter', 'would', 'surprised', 'dylan', 'think', 'father', 'decision', 'give', 'full', 'custody', 'mother', 'completely', 'revolved', 'around']\n"
          ]
        }
      ],
      "source": [
        "X = [preprocess(sentence) for sentence in X]\n",
        "X = [tokenize(sentence) for sentence in X]\n",
        "print(\"After:\", X[0])"
      ]
    },
    {
      "cell_type": "code",
      "execution_count": null,
      "metadata": {
        "colab": {
          "base_uri": "https://localhost:8080/"
        },
        "id": "rncDYOFDyz3I",
        "outputId": "4a66a0a8-6565-484b-9e7c-cb7040d04e8a"
      },
      "outputs": [
        {
          "data": {
            "text/plain": [
              "(10947, 1217)"
            ]
          },
          "execution_count": 13,
          "metadata": {},
          "output_type": "execute_result"
        }
      ],
      "source": [
        "X_train, X_test, y_train, y_test = train_test_split(X, y, test_size=TEST_SIZE, stratify=y, random_state=42)\n",
        "len(X_train), len(X_test)"
      ]
    },
    {
      "cell_type": "code",
      "execution_count": null,
      "metadata": {
        "id": "fPJL-3uhyz3I"
      },
      "outputs": [],
      "source": [
        "from keras.preprocessing.text import Tokenizer\n",
        "\n",
        "tokenizer = Tokenizer(num_words=None, oov_token=\"<OOV>\")    # num_words: the maximum number of words to keep, based on word frequency. \n",
        "                                                            # Only the most common num_words-1 words will be kept. If none, no limit is set.\n",
        "\n",
        "tokenizer.fit_on_texts(X_train)\n",
        "\n",
        "X_train = tokenizer.texts_to_sequences(X_train)    # Transforms each text in texts to a sequence of integers.\n",
        "X_test = tokenizer.texts_to_sequences(X_test)"
      ]
    },
    {
      "cell_type": "code",
      "execution_count": null,
      "metadata": {
        "colab": {
          "base_uri": "https://localhost:8080/"
        },
        "id": "1bLD4EVTyz3I",
        "outputId": "f73fc5c3-5b52-44d5-f3c1-4f5c60da10e3"
      },
      "outputs": [
        {
          "name": "stdout",
          "output_type": "stream",
          "text": [
            "Vocab size: 75282 \n",
            "\n",
            "[721, 1484, 76, 711, 57, 62810, 230, 727, 3225, 28163, 520, 23876, 4302, 2480, 14283, 19385, 366, 24, 764, 8, 4771, 33, 158, 802, 116, 143, 310, 5259, 8612, 34, 115, 86, 10, 6, 275, 9548, 10, 655, 1462, 6326, 1604, 189, 1381, 4950, 870, 2716, 486, 255, 724, 47, 516, 14654, 655, 235, 64, 354, 2111, 3582, 11056, 4471, 3514, 8108, 15, 4762, 1680, 2284, 9, 296, 127, 5499, 7126, 869, 6260, 358, 442, 392, 3772, 450, 512, 1048, 88, 750, 2501, 2319, 57, 1093, 443, 6, 2037, 2995, 5437, 9, 2908, 283, 9388, 931, 2452, 1970, 1227, 5570, 382, 34, 8, 4635, 18724, 47, 516, 166, 257, 23, 62, 80, 3057, 1638, 24579, 113, 516, 152, 297, 3189, 417, 8982, 421, 504, 62811, 36, 158, 1964, 2926, 58, 40, 1276, 29, 711, 2343, 491, 536, 2262, 4696, 684, 509, 3638, 684, 13440, 684, 13891, 684, 1108, 1206, 684, 62812, 26881, 13549, 7349, 62813, 657, 23481, 1752, 62814, 184, 684, 33517, 684, 24305, 684, 26882, 7856, 684, 9211, 684, 7889, 684, 62815, 684, 896, 4857, 684, 896, 3692, 684, 26883, 1636, 88, 62816, 4307, 1034, 18253, 62817, 62818, 3502, 896, 2666, 684, 26884, 1524, 62819, 1468, 1636, 896, 2666, 88, 1106, 62820, 3494, 349, 258, 14163, 25030, 2639, 3275, 360, 7799, 204, 2857, 408, 76, 26, 711, 57, 5326, 23259, 939, 2264, 16314, 62821, 7349, 368, 26885, 62822, 131, 388, 18130, 57, 166, 113, 1791, 252, 62823, 368, 9522, 368, 35140, 1257, 2588, 19438, 1163, 1183, 18130, 57, 1144, 330, 33603, 147, 110, 1076, 506, 1970, 62824, 368, 896, 4132, 684, 3130, 10408, 684, 3130, 11703, 684, 896, 9594, 684, 1607, 4244, 5281, 1607, 4214, 9, 4214, 1032, 3627, 26883, 2533, 1897, 3492, 1248, 2372, 3502, 10114, 2566, 938, 10114, 1074, 2232, 1009, 1074, 3555, 1074, 2353, 4050, 7325, 3786, 1151, 3786, 26884, 1636, 12485, 8580, 214, 10834, 1599, 749, 35140, 2995, 711, 5075, 1032, 57, 62825, 591, 62826, 431, 6655, 368, 62827, 3786, 3856, 3444, 3444, 88, 3444, 3934, 5083, 10726, 5083, 4280, 2985, 3118, 1667, 3118, 26884, 3394, 2892, 222, 639, 252, 2533, 62828, 5379, 368, 6878, 3118, 8471, 35141, 11775, 35141, 2084, 842, 15905, 2084, 29009, 2084, 2524, 26883, 1636, 413, 669, 895, 2690, 3638, 938, 2855, 3502, 413, 1599, 749, 3030, 88, 2524, 3213, 3934, 88, 3213, 1380, 2640, 3213, 4268, 9, 2829, 28143, 9, 2829, 13473, 9, 2829, 891, 387, 9, 2829, 9, 1180, 3130, 26886, 9, 1180, 9, 296, 6548, 9, 296, 115, 1123, 9, 296, 9, 296, 9, 296, 62829, 1636, 634, 6791, 10971, 668, 565, 1408, 419, 62830, 3502, 12789, 141, 3295, 9, 296, 413, 1295, 16696, 413, 1295, 26885, 1636, 2533, 1074, 368, 6830, 5234, 938, 257, 1389, 92, 297, 9962, 413, 1295, 2167, 3054, 2167, 6128, 2167, 3956, 2789, 2597, 5387, 2597, 62831, 2597, 300, 1295, 3644, 62832, 1636, 62833, 754, 257, 2566, 110, 695, 3532, 695, 3416, 695, 896, 5416, 695, 4470, 1889, 26749, 1889, 214, 3279, 214, 26885, 3279, 509, 668, 24438, 7364, 5479, 158, 1742, 12898, 9, 3088, 309, 421, 198, 412, 690, 3124, 7403, 9196, 605, 14210, 944, 6700, 355, 2508, 2240, 655, 150, 9009, 2850, 711, 4714] \n",
            "\n",
            "533\n",
            "Max sentence length: 549\n"
          ]
        },
        {
          "data": {
            "text/plain": [
              "(10947, 549)"
            ]
          },
          "execution_count": 15,
          "metadata": {},
          "output_type": "execute_result"
        }
      ],
      "source": [
        "from tensorflow.keras.utils import pad_sequences\n",
        "\n",
        "vocab_size = len(tokenizer.word_index) + 1  # Adding 1 because of reserved 0 index\n",
        "print(\"Vocab size:\", vocab_size, '\\n')            # To be used in Embedding layer\n",
        "\n",
        "def calculate_max_sentence_length(sentences):\n",
        "    word_count = lambda sentence: len(sentence)\n",
        "    longest_sentence = max(X_train, key=word_count)\n",
        "    maxlen = len(longest_sentence) + 10\n",
        "    print(longest_sentence, '\\n')\n",
        "    print(maxlen)\n",
        "    return maxlen\n",
        "\n",
        "# maxlen = 256\n",
        "maxlen = calculate_max_sentence_length(X_train) + 16\n",
        "print(f'Max sentence length: {maxlen}')\n",
        "\n",
        "X_train = pad_sequences(X_train, padding='post', truncating='post', maxlen=maxlen)\n",
        "X_test = pad_sequences(X_test, padding='post', truncating='post', maxlen=maxlen)\n",
        "len(X_train), len(X_train[0])"
      ]
    },
    {
      "cell_type": "code",
      "execution_count": null,
      "metadata": {
        "colab": {
          "base_uri": "https://localhost:8080/"
        },
        "id": "CxnBe4S5yz3I",
        "outputId": "3fc06015-bc67-4e21-d9c1-a87835cf673e"
      },
      "outputs": [
        {
          "name": "stdout",
          "output_type": "stream",
          "text": [
            "Found 2196007 word vectors.\n"
          ]
        }
      ],
      "source": [
        "glove_dir = '/content/drive/MyDrive/NUS/Y3S2/CS4248/glove.840B.300d.txt'\n",
        "embeddings_index = {}\n",
        "\n",
        "with open(glove_dir, encoding='utf-8') as f:\n",
        "    for line in f:\n",
        "        # values = line.split()\n",
        "        values = line.strip().split(' ')\n",
        "        word = values[0]\n",
        "        coefs = np.asarray(values[1:], dtype='float32')\n",
        "        embeddings_index[word] = coefs\n",
        "        \n",
        "print(f'Found {len(embeddings_index)} word vectors.')"
      ]
    },
    {
      "cell_type": "code",
      "execution_count": null,
      "metadata": {
        "colab": {
          "base_uri": "https://localhost:8080/"
        },
        "id": "wVxy3ANKyz3I",
        "outputId": "5f58a7ac-f017-47d7-bb17-6a7230c391b7"
      },
      "outputs": [
        {
          "name": "stdout",
          "output_type": "stream",
          "text": [
            "300\n",
            "300\n"
          ]
        }
      ],
      "source": [
        "# Number of dimensions is 300 in glove.840B.300d.txt\n",
        "print(len(embeddings_index['the']))\n",
        "print(len(embeddings_index['happy']))"
      ]
    },
    {
      "cell_type": "code",
      "execution_count": null,
      "metadata": {
        "id": "0lhFCM-eyz3I"
      },
      "outputs": [],
      "source": [
        "embedding_dim = 300\n",
        "\n",
        "embedding_matrix = np.zeros((vocab_size, embedding_dim))\n",
        "for word, i in tokenizer.word_index.items():\n",
        "    if i < vocab_size:\n",
        "        embedding_vector = embeddings_index.get(word)\n",
        "        if embedding_vector is not None:\n",
        "            embedding_matrix[i] = embedding_vector"
      ]
    },
    {
      "cell_type": "code",
      "execution_count": null,
      "metadata": {
        "colab": {
          "base_uri": "https://localhost:8080/"
        },
        "id": "38MWDWWOyz3I",
        "outputId": "36a0df6d-0505-4677-e979-c34d70623397"
      },
      "outputs": [
        {
          "name": "stdout",
          "output_type": "stream",
          "text": [
            "(1217, 4)\n",
            "(1217, 549)\n",
            "(10947, 4)\n",
            "(10947, 549)\n"
          ]
        }
      ],
      "source": [
        "print(y_test.shape)\n",
        "print(X_test.shape)\n",
        "print(y_train.shape)\n",
        "print(X_train.shape)"
      ]
    },
    {
      "cell_type": "markdown",
      "metadata": {
        "id": "ZhY1jo-3yz3I"
      },
      "source": [
        "## Training"
      ]
    },
    {
      "cell_type": "code",
      "execution_count": null,
      "metadata": {
        "id": "FpSHkZelyz3I"
      },
      "outputs": [],
      "source": [
        "from keras.models import Sequential\n",
        "from keras import layers \n",
        "\n",
        "model = Sequential()\n",
        "input_dim = X_train.shape[1]\n",
        "num_cats = 4\n",
        "\n",
        "def build_embconvmax_model():\n",
        "    model.add(layers.Embedding(vocab_size, embedding_dim, input_length=maxlen))\n",
        "    model.add(layers.Conv1D(128, 4, activation='relu'))\n",
        "    model.add(layers.GlobalMaxPooling1D())\n",
        "    model.add(layers.Dense(10, activation='relu'))\n",
        "    model.add(layers.Dense(num_cats, activation='softmax'))\n",
        "    model.compile(optimizer='adam',\n",
        "                  loss='categorical_crossentropy',\n",
        "                  metrics=['accuracy'])\n",
        "    model.summary()\n",
        "\n",
        "def build_embpre_model():\n",
        "    model.add(layers.Embedding(vocab_size, embedding_dim, \n",
        "                               weights=[embedding_matrix], \n",
        "                               input_length=maxlen, \n",
        "                               trainable=True))\n",
        "    model.add(layers.Conv1D(128, 3, activation='relu'))\n",
        "    model.add(layers.Dropout(0.5))    \n",
        "    model.add(layers.GlobalMaxPool1D())\n",
        "    model.add(layers.Dropout(0.5))    \n",
        "    model.add(layers.Dense(10, activation='relu'))\n",
        "    model.add(layers.Dense(num_cats, activation='sigmoid'))\n",
        "    model.compile(optimizer='adam',\n",
        "                  loss='categorical_crossentropy',\n",
        "                  metrics=['accuracy'])\n",
        "    model.summary()"
      ]
    },
    {
      "cell_type": "code",
      "execution_count": null,
      "metadata": {
        "id": "NUbgaaT4yz3J"
      },
      "outputs": [],
      "source": [
        "# Define Callbacks\n",
        "import tensorflow as tf\n",
        "from keras.callbacks import EarlyStopping, ReduceLROnPlateau\n",
        "\n",
        "monitor = EarlyStopping(monitor='val_loss', \n",
        "                        min_delta=1e-3, \n",
        "                        patience=5, \n",
        "                        verbose=1, \n",
        "                        mode='auto',\n",
        "                        restore_best_weights=True)\n",
        "\n",
        "reduce_lr = ReduceLROnPlateau(monitor='val_loss', factor=0.2,\n",
        "                              patience=5, min_lr=0.001)"
      ]
    },
    {
      "cell_type": "code",
      "execution_count": null,
      "metadata": {
        "id": "2E3RLVyTyz3J"
      },
      "outputs": [],
      "source": [
        "def train_model(X_train, Y_train, X_test, Y_test):\n",
        "    return model.fit(\n",
        "        X_train,\n",
        "        Y_train,\n",
        "        epochs=256,\n",
        "        validation_data=(X_test, Y_test),\n",
        "        batch_size=16,\n",
        "        callbacks=[monitor, reduce_lr],\n",
        "    )"
      ]
    },
    {
      "cell_type": "code",
      "execution_count": null,
      "metadata": {
        "id": "RIKVd6iKyz3J"
      },
      "outputs": [],
      "source": [
        "def evaluate_model(X_train, Y_train, X_test, Y_test):\n",
        "    loss, accuracy = model.evaluate(X_train, Y_train, verbose=False)\n",
        "    print(\"Training Loss: {:.4f}\".format(loss))\n",
        "    print(\"Training Accuracy: {:.4f}\".format(accuracy))\n",
        "    loss, accuracy = model.evaluate(X_test, Y_test, verbose=False)\n",
        "    print(\"Testing Loss:  {:.4f}\".format(loss))\n",
        "    print(\"Testing Accuracy:  {:.4f}\".format(accuracy))"
      ]
    },
    {
      "cell_type": "code",
      "execution_count": null,
      "metadata": {
        "id": "WNXCeabXyz3J"
      },
      "outputs": [],
      "source": [
        "# Helper function to visualize the loss and accuracy for the training and testing data based on the History callback. \n",
        "import matplotlib.pyplot as plt\n",
        "plt.style.use('ggplot')\n",
        "\n",
        "def plot_history(history):\n",
        "    acc = history.history['accuracy']\n",
        "    val_acc = history.history['val_accuracy']\n",
        "    loss = history.history['loss']\n",
        "    val_loss = history.history['val_loss']\n",
        "    x = range(1, len(acc) + 1)\n",
        "\n",
        "    plt.figure(figsize=(12, 5))\n",
        "    plt.subplot(1, 2, 1)\n",
        "    plt.plot(x, acc, 'b', label='Training acc')\n",
        "    plt.plot(x, val_acc, 'r', label='Validation acc')\n",
        "    plt.title('Training and validation accuracy')\n",
        "    plt.legend()\n",
        "    plt.subplot(1, 2, 2)\n",
        "    plt.plot(x, loss, 'b', label='Training loss')\n",
        "    plt.plot(x, val_loss, 'r', label='Validation loss')\n",
        "    plt.title('Training and validation loss')\n",
        "    plt.legend()"
      ]
    },
    {
      "cell_type": "markdown",
      "metadata": {
        "id": "MWdMisYwFWnd"
      },
      "source": [
        "### Model 1: Embeddings + Convolution Layer + MaxPooling Layer"
      ]
    },
    {
      "cell_type": "code",
      "execution_count": null,
      "metadata": {
        "colab": {
          "base_uri": "https://localhost:8080/"
        },
        "id": "Gd2_-sN0E9XL",
        "outputId": "fdde171a-7e0a-4854-d63e-f287b573366a"
      },
      "outputs": [
        {
          "name": "stdout",
          "output_type": "stream",
          "text": [
            "Model: \"sequential\"\n",
            "_________________________________________________________________\n",
            " Layer (type)                Output Shape              Param #   \n",
            "=================================================================\n",
            " embedding (Embedding)       (None, 549, 300)          22584600  \n",
            "                                                                 \n",
            " conv1d (Conv1D)             (None, 546, 128)          153728    \n",
            "                                                                 \n",
            " global_max_pooling1d (Globa  (None, 128)              0         \n",
            " lMaxPooling1D)                                                  \n",
            "                                                                 \n",
            " dense (Dense)               (None, 10)                1290      \n",
            "                                                                 \n",
            " dense_1 (Dense)             (None, 4)                 44        \n",
            "                                                                 \n",
            "=================================================================\n",
            "Total params: 22,739,662\n",
            "Trainable params: 22,739,662\n",
            "Non-trainable params: 0\n",
            "_________________________________________________________________\n"
          ]
        }
      ],
      "source": [
        "build_embconvmax_model()"
      ]
    },
    {
      "cell_type": "code",
      "execution_count": null,
      "metadata": {
        "colab": {
          "base_uri": "https://localhost:8080/"
        },
        "id": "8iQG_0bJFUiz",
        "outputId": "abb33a36-5e30-456c-e413-469f207de8c4"
      },
      "outputs": [
        {
          "name": "stdout",
          "output_type": "stream",
          "text": [
            "Epoch 1/256\n",
            "685/685 [==============================] - 106s 136ms/step - loss: 0.5684 - accuracy: 0.7802 - val_loss: 0.2999 - val_accuracy: 0.8891 - lr: 0.0010\n",
            "Epoch 2/256\n",
            "685/685 [==============================] - 36s 52ms/step - loss: 0.0745 - accuracy: 0.9774 - val_loss: 0.2283 - val_accuracy: 0.9145 - lr: 0.0010\n",
            "Epoch 3/256\n",
            "685/685 [==============================] - 19s 28ms/step - loss: 0.0045 - accuracy: 0.9995 - val_loss: 0.2371 - val_accuracy: 0.9113 - lr: 0.0010\n",
            "Epoch 4/256\n",
            "685/685 [==============================] - 17s 25ms/step - loss: 9.7881e-04 - accuracy: 0.9999 - val_loss: 0.2381 - val_accuracy: 0.9178 - lr: 0.0010\n",
            "Epoch 5/256\n",
            "685/685 [==============================] - 14s 21ms/step - loss: 3.3257e-04 - accuracy: 1.0000 - val_loss: 0.2439 - val_accuracy: 0.9178 - lr: 0.0010\n",
            "Epoch 6/256\n",
            "685/685 [==============================] - 13s 19ms/step - loss: 1.9251e-04 - accuracy: 1.0000 - val_loss: 0.2489 - val_accuracy: 0.9178 - lr: 0.0010\n",
            "Epoch 7/256\n",
            "685/685 [==============================] - ETA: 0s - loss: 1.1920e-04 - accuracy: 1.0000Restoring model weights from the end of the best epoch: 2.\n",
            "685/685 [==============================] - 12s 17ms/step - loss: 1.1920e-04 - accuracy: 1.0000 - val_loss: 0.2541 - val_accuracy: 0.9170 - lr: 0.0010\n",
            "Epoch 7: early stopping\n"
          ]
        }
      ],
      "source": [
        "history = train_model(X_train, y_train, X_test, y_test)\n"
      ]
    },
    {
      "cell_type": "code",
      "execution_count": null,
      "metadata": {
        "colab": {
          "base_uri": "https://localhost:8080/",
          "height": 538
        },
        "id": "Ns8rD-zcFouk",
        "outputId": "0db72e07-02ba-4d97-e432-3acc5f5a024e"
      },
      "outputs": [
        {
          "name": "stdout",
          "output_type": "stream",
          "text": [
            "Training Loss: 0.0061\n",
            "Training Accuracy: 0.9996\n",
            "Testing Loss:  0.2283\n",
            "Testing Accuracy:  0.9145\n"
          ]
        },
        {
          "data": {
            "image/png": "[encoded data removed]",
            "text/plain": [
              "<Figure size 1200x500 with 2 Axes>"
            ]
          },
          "metadata": {},
          "output_type": "display_data"
        }
      ],
      "source": [
        "evaluate_model(X_train, y_train, X_test, y_test)\n",
        "plot_history(history)"
      ]
    },
    {
      "cell_type": "markdown",
      "metadata": {
        "id": "TMxLKS9IGDbQ"
      },
      "source": [
        "## Validation - Model 1"
      ]
    },
    {
      "cell_type": "code",
      "execution_count": null,
      "metadata": {
        "colab": {
          "base_uri": "https://localhost:8080/",
          "height": 224
        },
        "id": "LIKkFw36Fq_z",
        "outputId": "94e5936e-31d2-4114-b818-dca9e9cdf18c"
      },
      "outputs": [
        {
          "name": "stdout",
          "output_type": "stream",
          "text": [
            "No. test samples (all classes): 3000\n"
          ]
        },
        {
          "data": {
            "text/html": [
              "\n",
              "  <div id=\"df-ddb49074-1b45-4f66-acbe-bb1b1d2d63aa\">\n",
              "    <div class=\"colab-df-container\">\n",
              "      <div>\n",
              "<style scoped>\n",
              "    .dataframe tbody tr th:only-of-type {\n",
              "        vertical-align: middle;\n",
              "    }\n",
              "\n",
              "    .dataframe tbody tr th {\n",
              "        vertical-align: top;\n",
              "    }\n",
              "\n",
              "    .dataframe thead th {\n",
              "        text-align: right;\n",
              "    }\n",
              "</style>\n",
              "<table border=\"1\" class=\"dataframe\">\n",
              "  <thead>\n",
              "    <tr style=\"text-align: right;\">\n",
              "      <th></th>\n",
              "      <th>label</th>\n",
              "      <th>text</th>\n",
              "    </tr>\n",
              "  </thead>\n",
              "  <tbody>\n",
              "    <tr>\n",
              "      <th>1762</th>\n",
              "      <td>3</td>\n",
              "      <td>Xanthan gum was discovered in the 1960s and w...</td>\n",
              "    </tr>\n",
              "    <tr>\n",
              "      <th>1455</th>\n",
              "      <td>2</td>\n",
              "      <td>WATCH: White Man Jailed for a Traffic Ticket D...</td>\n",
              "    </tr>\n",
              "    <tr>\n",
              "      <th>81</th>\n",
              "      <td>1</td>\n",
              "      <td>Late in the afternoon on Tuesday, Fox News Cha...</td>\n",
              "    </tr>\n",
              "    <tr>\n",
              "      <th>2204</th>\n",
              "      <td>3</td>\n",
              "      <td>Of all the times Republicans have made fun of...</td>\n",
              "    </tr>\n",
              "    <tr>\n",
              "      <th>632</th>\n",
              "      <td>1</td>\n",
              "      <td>Fox News announced on Wednesday that it is ter...</td>\n",
              "    </tr>\n",
              "  </tbody>\n",
              "</table>\n",
              "</div>\n",
              "      <button class=\"colab-df-convert\" onclick=\"convertToInteractive('df-ddb49074-1b45-4f66-acbe-bb1b1d2d63aa')\"\n",
              "              title=\"Convert this dataframe to an interactive table.\"\n",
              "              style=\"display:none;\">\n",
              "        \n",
              "  <svg xmlns=\"http://www.w3.org/2000/svg\" height=\"24px\"viewBox=\"0 0 24 24\"\n",
              "       width=\"24px\">\n",
              "    <path d=\"M0 0h24v24H0V0z\" fill=\"none\"/>\n",
              "    <path d=\"M18.56 5.44l.94 2.06.94-2.06 2.06-.94-2.06-.94-.94-2.06-.94 2.06-2.06.94zm-11 1L8.5 8.5l.94-2.06 2.06-.94-2.06-.94L8.5 2.5l-.94 2.06-2.06.94zm10 10l.94 2.06.94-2.06 2.06-.94-2.06-.94-.94-2.06-.94 2.06-2.06.94z\"/><path d=\"M17.41 7.96l-1.37-1.37c-.4-.4-.92-.59-1.43-.59-.52 0-1.04.2-1.43.59L10.3 9.45l-7.72 7.72c-.78.78-.78 2.05 0 2.83L4 21.41c.39.39.9.59 1.41.59.51 0 1.02-.2 1.41-.59l7.78-7.78 2.81-2.81c.8-.78.8-2.07 0-2.86zM5.41 20L4 18.59l7.72-7.72 1.47 1.35L5.41 20z\"/>\n",
              "  </svg>\n",
              "      </button>\n",
              "      \n",
              "  <style>\n",
              "    .colab-df-container {\n",
              "      display:flex;\n",
              "      flex-wrap:wrap;\n",
              "      gap: 12px;\n",
              "    }\n",
              "\n",
              "    .colab-df-convert {\n",
              "      background-color: #E8F0FE;\n",
              "      border: none;\n",
              "      border-radius: 50%;\n",
              "      cursor: pointer;\n",
              "      display: none;\n",
              "      fill: #1967D2;\n",
              "      height: 32px;\n",
              "      padding: 0 0 0 0;\n",
              "      width: 32px;\n",
              "    }\n",
              "\n",
              "    .colab-df-convert:hover {\n",
              "      background-color: #E2EBFA;\n",
              "      box-shadow: 0px 1px 2px rgba(60, 64, 67, 0.3), 0px 1px 3px 1px rgba(60, 64, 67, 0.15);\n",
              "      fill: #174EA6;\n",
              "    }\n",
              "\n",
              "    [theme=dark] .colab-df-convert {\n",
              "      background-color: #3B4455;\n",
              "      fill: #D2E3FC;\n",
              "    }\n",
              "\n",
              "    [theme=dark] .colab-df-convert:hover {\n",
              "      background-color: #434B5C;\n",
              "      box-shadow: 0px 1px 3px 1px rgba(0, 0, 0, 0.15);\n",
              "      filter: drop-shadow(0px 1px 2px rgba(0, 0, 0, 0.3));\n",
              "      fill: #FFFFFF;\n",
              "    }\n",
              "  </style>\n",
              "\n",
              "      <script>\n",
              "        const buttonEl =\n",
              "          document.querySelector('#df-ddb49074-1b45-4f66-acbe-bb1b1d2d63aa button.colab-df-convert');\n",
              "        buttonEl.style.display =\n",
              "          google.colab.kernel.accessAllowed ? 'block' : 'none';\n",
              "\n",
              "        async function convertToInteractive(key) {\n",
              "          const element = document.querySelector('#df-ddb49074-1b45-4f66-acbe-bb1b1d2d63aa');\n",
              "          const dataTable =\n",
              "            await google.colab.kernel.invokeFunction('convertToInteractive',\n",
              "                                                     [key], {});\n",
              "          if (!dataTable) return;\n",
              "\n",
              "          const docLinkHtml = 'Like what you see? Visit the ' +\n",
              "            '<a target=\"_blank\" href=https://colab.research.google.com/notebooks/data_table.ipynb>data table notebook</a>'\n",
              "            + ' to learn more about interactive tables.';\n",
              "          element.innerHTML = '';\n",
              "          dataTable['output_type'] = 'display_data';\n",
              "          await google.colab.output.renderOutput(dataTable, element);\n",
              "          const docLink = document.createElement('div');\n",
              "          docLink.innerHTML = docLinkHtml;\n",
              "          element.appendChild(docLink);\n",
              "        }\n",
              "      </script>\n",
              "    </div>\n",
              "  </div>\n",
              "  "
            ],
            "text/plain": [
              "      label                                               text\n",
              "1762      3   Xanthan gum was discovered in the 1960s and w...\n",
              "1455      2  WATCH: White Man Jailed for a Traffic Ticket D...\n",
              "81        1  Late in the afternoon on Tuesday, Fox News Cha...\n",
              "2204      3   Of all the times Republicans have made fun of...\n",
              "632       1  Fox News announced on Wednesday that it is ter..."
            ]
          },
          "execution_count": 28,
          "metadata": {},
          "output_type": "execute_result"
        }
      ],
      "source": [
        "test_df = pd.read_csv('raw_data/balancedtest.csv', header=None, names=['label', 'text'])\n",
        "print(f\"No. test samples (all classes): {len(test_df)}\")\n",
        "test_df.sample(5)"
      ]
    },
    {
      "cell_type": "code",
      "execution_count": null,
      "metadata": {
        "colab": {
          "base_uri": "https://localhost:8080/"
        },
        "id": "sIQoZN4SFujs",
        "outputId": "1b1d8971-e5f3-4b53-bf18-da978715c267"
      },
      "outputs": [
        {
          "name": "stdout",
          "output_type": "stream",
          "text": [
            "After: ['many', 'actor', 'seem', 'content', 'churn', 'performance', 'quick', 'paycheck', 'performer', 'adheres', 'principle', 'really', 'stand', 'thats', 'jeff', 'bridge', 'made', 'wave', 'week', 'announced', 'perform', 'nude', 'scene', 'interview', 'month', 'gq', 'big', 'lebowski', 'star', 'made', 'clear', 'ready', 'move', 'new', 'phase', 'career', 'leaving', 'clothed', 'role', 'past', 'ive', 'ive', 'done', 'said', 'bridge', 'rattling', 'laundry', 'list', 'film', 'he', 'appeared', 'covered', 'finally', 'afford', 'take', 'role', 'excite', 'right', 'role', 'nude', 'scene', 'waste', 'time', 'anything', 'else', 'powerful', 'though', 'made', 'clear', 'doesnt', 'regret', 'previous', 'nonnude', 'role', 'jeff', 'admitted', 'hed', 'always', 'struggled', 'pressure', 'director', 'studio', 'stay', 'clothed', 'camera', 'towel', 'bathrobe', 'carefully', 'placed', 'plant', 'added', 'even', 'character', 'isnt', 'written', 'nude', 'director', 'work', 'figure', 'make', 'way', 'itll', 'challenge', 'u', 'one', 'cant', 'wait', 'tackle', 'part', 'jeffs', 'fan', 'nothing', 'supportive', 'wow', 'whether', 'agree', 'youve', 'got', 'respect', 'hollywood', 'star', 'much', 'conviction', 'keep', 'jeff']\n"
          ]
        }
      ],
      "source": [
        "X_val = test_df['text'].values\n",
        "y_val = test_df['label'].values\n",
        "\n",
        "# Do the same preprocessing steps as training data: preprocess, tokenize, pad sequences\n",
        "X_val = [preprocess(sentence) for sentence in X_val]\n",
        "X_val = [tokenize(sentence) for sentence in X_val]\n",
        "print(\"After:\", X_val[0])\n"
      ]
    },
    {
      "cell_type": "code",
      "execution_count": null,
      "metadata": {
        "colab": {
          "base_uri": "https://localhost:8080/"
        },
        "id": "eOMlFH35F5cI",
        "outputId": "8d54d152-cde6-412e-ee60-208a82a235fa"
      },
      "outputs": [
        {
          "data": {
            "text/plain": [
              "549"
            ]
          },
          "execution_count": 30,
          "metadata": {},
          "output_type": "execute_result"
        }
      ],
      "source": [
        "X_val = tokenizer.texts_to_sequences(X_val)\n",
        "X_val = pad_sequences(X_val, padding='post', maxlen=maxlen)\n",
        "len(X_val[0])"
      ]
    },
    {
      "cell_type": "code",
      "execution_count": null,
      "metadata": {
        "colab": {
          "base_uri": "https://localhost:8080/"
        },
        "id": "P__kPOwbF5cI",
        "outputId": "9488c17a-f97a-45fc-fc43-78c964bcd8a8"
      },
      "outputs": [
        {
          "name": "stdout",
          "output_type": "stream",
          "text": [
            "94/94 [==============================] - 1s 4ms/step\n"
          ]
        },
        {
          "data": {
            "text/plain": [
              "[1, 1, 1, 4, 4]"
            ]
          },
          "execution_count": 31,
          "metadata": {},
          "output_type": "execute_result"
        }
      ],
      "source": [
        "y_pred = model.predict(X_val)\n",
        "predicted_indexes = np.argmax(y_pred, axis=1)\n",
        "y_pred_val = [pred_class + 1 for pred_class in predicted_indexes]\n",
        "y_pred_val[:5]"
      ]
    },
    {
      "cell_type": "code",
      "execution_count": null,
      "metadata": {
        "colab": {
          "base_uri": "https://localhost:8080/"
        },
        "id": "G0F47sBtF5cI",
        "outputId": "7cdef416-9711-411e-9daf-b78fd6c5eaeb"
      },
      "outputs": [
        {
          "name": "stdout",
          "output_type": "stream",
          "text": [
            "Accuracy: 0.639\n",
            "F1 score: 0.6251024786192263\n"
          ]
        }
      ],
      "source": [
        "# y_pred_val = model.predict(X_val)\n",
        "print(f\"Accuracy: {accuracy_score(y_val, y_pred_val)}\")\n",
        "print(f\"F1 score: {f1_score(y_val, y_pred_val, average='macro')}\")"
      ]
    },
    {
      "cell_type": "code",
      "execution_count": null,
      "metadata": {
        "colab": {
          "base_uri": "https://localhost:8080/"
        },
        "id": "paxViG_7F5cI",
        "outputId": "2dcce5f4-6fb7-433c-e5e6-855329c952a2"
      },
      "outputs": [
        {
          "name": "stdout",
          "output_type": "stream",
          "text": [
            "              precision    recall  f1-score   support\n",
            "\n",
            "      satire       0.80      0.58      0.67       750\n",
            "        hoax       0.70      0.32      0.44       750\n",
            "  propaganda       0.51      0.86      0.64       750\n",
            "    reliable       0.70      0.79      0.75       750\n",
            "\n",
            "    accuracy                           0.64      3000\n",
            "   macro avg       0.68      0.64      0.63      3000\n",
            "weighted avg       0.68      0.64      0.63      3000\n",
            "\n"
          ]
        }
      ],
      "source": [
        "print(classification_report(y_val, y_pred_val, target_names=['satire', 'hoax', 'propaganda', 'reliable']))"
      ]
    },
    {
      "cell_type": "code",
      "execution_count": null,
      "metadata": {
        "colab": {
          "base_uri": "https://localhost:8080/",
          "height": 569
        },
        "id": "ouSX66gMF5cI",
        "outputId": "5b658ab9-298b-4f21-d82f-1fd2ffe45e2b"
      },
      "outputs": [
        {
          "data": {
            "image/png": "[encoded data removed]",
            "text/plain": [
              "<Figure size 600x600 with 2 Axes>"
            ]
          },
          "metadata": {},
          "output_type": "display_data"
        }
      ],
      "source": [
        "cm = confusion_matrix(y_val, y_pred_val)\n",
        "plt.figure(figsize=(6, 6))\n",
        "sns.heatmap(cm, annot=True, fmt=\"d\")\n",
        "plt.title(\"Confusion matrix\")\n",
        "plt.ylabel('True label')\n",
        "plt.xlabel('Predicted label')\n",
        "plt.show()\t"
      ]
    },
    {
      "cell_type": "markdown",
      "metadata": {
        "id": "C_mFbUJ6Fevc"
      },
      "source": [
        "### Model 2. Embeddings"
      ]
    },
    {
      "cell_type": "code",
      "execution_count": null,
      "metadata": {
        "colab": {
          "base_uri": "https://localhost:8080/"
        },
        "id": "Tx2oODJWyz3J",
        "outputId": "69c16c45-5409-4c70-af64-a6413c18a78b"
      },
      "outputs": [
        {
          "name": "stdout",
          "output_type": "stream",
          "text": [
            "Model: \"sequential\"\n",
            "_________________________________________________________________\n",
            " Layer (type)                Output Shape              Param #   \n",
            "=================================================================\n",
            " embedding (Embedding)       (None, 549, 300)          22584600  \n",
            "                                                                 \n",
            " conv1d (Conv1D)             (None, 546, 128)          153728    \n",
            "                                                                 \n",
            " global_max_pooling1d (Globa  (None, 128)              0         \n",
            " lMaxPooling1D)                                                  \n",
            "                                                                 \n",
            " dense (Dense)               (None, 10)                1290      \n",
            "                                                                 \n",
            " dense_1 (Dense)             (None, 4)                 44        \n",
            "                                                                 \n",
            " embedding_1 (Embedding)     (None, 4, 300)            22584600  \n",
            "                                                                 \n",
            " conv1d_1 (Conv1D)           (None, 2, 128)            115328    \n",
            "                                                                 \n",
            " dropout (Dropout)           (None, 2, 128)            0         \n",
            "                                                                 \n",
            " global_max_pooling1d_1 (Glo  (None, 128)              0         \n",
            " balMaxPooling1D)                                                \n",
            "                                                                 \n",
            " dropout_1 (Dropout)         (None, 128)               0         \n",
            "                                                                 \n",
            " dense_2 (Dense)             (None, 10)                1290      \n",
            "                                                                 \n",
            " dense_3 (Dense)             (None, 4)                 44        \n",
            "                                                                 \n",
            "=================================================================\n",
            "Total params: 45,440,924\n",
            "Trainable params: 45,440,924\n",
            "Non-trainable params: 0\n",
            "_________________________________________________________________\n"
          ]
        }
      ],
      "source": [
        "build_embpre_model()\n"
      ]
    },
    {
      "cell_type": "code",
      "execution_count": null,
      "metadata": {
        "colab": {
          "base_uri": "https://localhost:8080/"
        },
        "id": "-eiAxgA8yz3J",
        "outputId": "8a20b073-d41b-43f7-e8ed-a8742de81460"
      },
      "outputs": [
        {
          "name": "stdout",
          "output_type": "stream",
          "text": [
            "Epoch 1/256\n"
          ]
        },
        {
          "name": "stderr",
          "output_type": "stream",
          "text": [
            "WARNING:tensorflow:Gradients do not exist for variables ['embedding/embeddings:0', 'conv1d/kernel:0', 'conv1d/bias:0', 'dense/kernel:0', 'dense/bias:0', 'dense_1/kernel:0', 'dense_1/bias:0'] when minimizing the loss. If you're using `model.compile()`, did you forget to provide a `loss` argument?\n",
            "WARNING:tensorflow:Gradients do not exist for variables ['embedding/embeddings:0', 'conv1d/kernel:0', 'conv1d/bias:0', 'dense/kernel:0', 'dense/bias:0', 'dense_1/kernel:0', 'dense_1/bias:0'] when minimizing the loss. If you're using `model.compile()`, did you forget to provide a `loss` argument?\n",
            "WARNING:tensorflow:Gradients do not exist for variables ['embedding/embeddings:0', 'conv1d/kernel:0', 'conv1d/bias:0', 'dense/kernel:0', 'dense/bias:0', 'dense_1/kernel:0', 'dense_1/bias:0'] when minimizing the loss. If you're using `model.compile()`, did you forget to provide a `loss` argument?\n",
            "WARNING:tensorflow:Gradients do not exist for variables ['embedding/embeddings:0', 'conv1d/kernel:0', 'conv1d/bias:0', 'dense/kernel:0', 'dense/bias:0', 'dense_1/kernel:0', 'dense_1/bias:0'] when minimizing the loss. If you're using `model.compile()`, did you forget to provide a `loss` argument?\n"
          ]
        },
        {
          "name": "stdout",
          "output_type": "stream",
          "text": [
            "685/685 [==============================] - 11s 13ms/step - loss: 1.3501 - accuracy: 0.3655 - val_loss: 1.3328 - val_accuracy: 0.3673 - lr: 0.0010\n",
            "Epoch 2/256\n",
            "685/685 [==============================] - 7s 10ms/step - loss: 1.3300 - accuracy: 0.3673 - val_loss: 1.3286 - val_accuracy: 0.3673 - lr: 0.0010\n",
            "Epoch 3/256\n",
            "685/685 [==============================] - 7s 11ms/step - loss: 1.3283 - accuracy: 0.3673 - val_loss: 1.3282 - val_accuracy: 0.3673 - lr: 0.0010\n",
            "Epoch 4/256\n",
            "685/685 [==============================] - 7s 10ms/step - loss: 1.3282 - accuracy: 0.3673 - val_loss: 1.3282 - val_accuracy: 0.3673 - lr: 0.0010\n",
            "Epoch 5/256\n",
            "685/685 [==============================] - 8s 11ms/step - loss: 1.3282 - accuracy: 0.3673 - val_loss: 1.3281 - val_accuracy: 0.3673 - lr: 0.0010\n",
            "Epoch 6/256\n",
            "685/685 [==============================] - 7s 10ms/step - loss: 1.3281 - accuracy: 0.3673 - val_loss: 1.3281 - val_accuracy: 0.3673 - lr: 0.0010\n",
            "Epoch 7/256\n",
            "680/685 [============================>.] - ETA: 0s - loss: 1.3279 - accuracy: 0.3673Restoring model weights from the end of the best epoch: 2.\n",
            "685/685 [==============================] - 8s 11ms/step - loss: 1.3281 - accuracy: 0.3673 - val_loss: 1.3281 - val_accuracy: 0.3673 - lr: 0.0010\n",
            "Epoch 7: early stopping\n"
          ]
        }
      ],
      "source": [
        "history = train_model(X_train, y_train, X_test, y_test)\n"
      ]
    },
    {
      "cell_type": "code",
      "execution_count": null,
      "metadata": {
        "colab": {
          "base_uri": "https://localhost:8080/",
          "height": 538
        },
        "id": "U1cUafAxyz3J",
        "outputId": "c3eb49be-8a28-4c27-dc0a-019d0916b399"
      },
      "outputs": [
        {
          "name": "stdout",
          "output_type": "stream",
          "text": [
            "Training Loss: 1.3285\n",
            "Training Accuracy: 0.3673\n",
            "Testing Loss:  1.3286\n",
            "Testing Accuracy:  0.3673\n"
          ]
        },
        {
          "data": {
            "image/png": "[encoded data removed]",
            "text/plain": [
              "<Figure size 1200x500 with 2 Axes>"
            ]
          },
          "metadata": {},
          "output_type": "display_data"
        }
      ],
      "source": [
        "evaluate_model(X_train, y_train, X_test, y_test)\n",
        "plot_history(history)"
      ]
    },
    {
      "cell_type": "markdown",
      "metadata": {
        "id": "0ijfPHB6yz3J"
      },
      "source": [
        "## Validation - Model 2"
      ]
    },
    {
      "cell_type": "code",
      "execution_count": null,
      "metadata": {
        "colab": {
          "base_uri": "https://localhost:8080/",
          "height": 224
        },
        "id": "S1cPGHGdyz3J",
        "outputId": "bee1f6d2-ea54-4498-894e-0e02cbc32b6e"
      },
      "outputs": [
        {
          "name": "stdout",
          "output_type": "stream",
          "text": [
            "No. test samples (all classes): 3000\n"
          ]
        },
        {
          "data": {
            "text/html": [
              "\n",
              "  <div id=\"df-96ce106c-0ffc-43b2-a59c-5a273e392425\">\n",
              "    <div class=\"colab-df-container\">\n",
              "      <div>\n",
              "<style scoped>\n",
              "    .dataframe tbody tr th:only-of-type {\n",
              "        vertical-align: middle;\n",
              "    }\n",
              "\n",
              "    .dataframe tbody tr th {\n",
              "        vertical-align: top;\n",
              "    }\n",
              "\n",
              "    .dataframe thead th {\n",
              "        text-align: right;\n",
              "    }\n",
              "</style>\n",
              "<table border=\"1\" class=\"dataframe\">\n",
              "  <thead>\n",
              "    <tr style=\"text-align: right;\">\n",
              "      <th></th>\n",
              "      <th>label</th>\n",
              "      <th>text</th>\n",
              "    </tr>\n",
              "  </thead>\n",
              "  <tbody>\n",
              "    <tr>\n",
              "      <th>645</th>\n",
              "      <td>1</td>\n",
              "      <td>President Obama used his weekly radio address ...</td>\n",
              "    </tr>\n",
              "    <tr>\n",
              "      <th>2486</th>\n",
              "      <td>4</td>\n",
              "      <td>The Obama administration indicated to reporter...</td>\n",
              "    </tr>\n",
              "    <tr>\n",
              "      <th>794</th>\n",
              "      <td>2</td>\n",
              "      <td>THIS is what REAL racism looks like: Group of ...</td>\n",
              "    </tr>\n",
              "    <tr>\n",
              "      <th>1059</th>\n",
              "      <td>2</td>\n",
              "      <td>McCarthy Says Shes Killing US Economy - To Sho...</td>\n",
              "    </tr>\n",
              "    <tr>\n",
              "      <th>1477</th>\n",
              "      <td>2</td>\n",
              "      <td>Soros To Hillary: Clean Up On Aisle 9 - ONE OR...</td>\n",
              "    </tr>\n",
              "  </tbody>\n",
              "</table>\n",
              "</div>\n",
              "      <button class=\"colab-df-convert\" onclick=\"convertToInteractive('df-96ce106c-0ffc-43b2-a59c-5a273e392425')\"\n",
              "              title=\"Convert this dataframe to an interactive table.\"\n",
              "              style=\"display:none;\">\n",
              "        \n",
              "  <svg xmlns=\"http://www.w3.org/2000/svg\" height=\"24px\"viewBox=\"0 0 24 24\"\n",
              "       width=\"24px\">\n",
              "    <path d=\"M0 0h24v24H0V0z\" fill=\"none\"/>\n",
              "    <path d=\"M18.56 5.44l.94 2.06.94-2.06 2.06-.94-2.06-.94-.94-2.06-.94 2.06-2.06.94zm-11 1L8.5 8.5l.94-2.06 2.06-.94-2.06-.94L8.5 2.5l-.94 2.06-2.06.94zm10 10l.94 2.06.94-2.06 2.06-.94-2.06-.94-.94-2.06-.94 2.06-2.06.94z\"/><path d=\"M17.41 7.96l-1.37-1.37c-.4-.4-.92-.59-1.43-.59-.52 0-1.04.2-1.43.59L10.3 9.45l-7.72 7.72c-.78.78-.78 2.05 0 2.83L4 21.41c.39.39.9.59 1.41.59.51 0 1.02-.2 1.41-.59l7.78-7.78 2.81-2.81c.8-.78.8-2.07 0-2.86zM5.41 20L4 18.59l7.72-7.72 1.47 1.35L5.41 20z\"/>\n",
              "  </svg>\n",
              "      </button>\n",
              "      \n",
              "  <style>\n",
              "    .colab-df-container {\n",
              "      display:flex;\n",
              "      flex-wrap:wrap;\n",
              "      gap: 12px;\n",
              "    }\n",
              "\n",
              "    .colab-df-convert {\n",
              "      background-color: #E8F0FE;\n",
              "      border: none;\n",
              "      border-radius: 50%;\n",
              "      cursor: pointer;\n",
              "      display: none;\n",
              "      fill: #1967D2;\n",
              "      height: 32px;\n",
              "      padding: 0 0 0 0;\n",
              "      width: 32px;\n",
              "    }\n",
              "\n",
              "    .colab-df-convert:hover {\n",
              "      background-color: #E2EBFA;\n",
              "      box-shadow: 0px 1px 2px rgba(60, 64, 67, 0.3), 0px 1px 3px 1px rgba(60, 64, 67, 0.15);\n",
              "      fill: #174EA6;\n",
              "    }\n",
              "\n",
              "    [theme=dark] .colab-df-convert {\n",
              "      background-color: #3B4455;\n",
              "      fill: #D2E3FC;\n",
              "    }\n",
              "\n",
              "    [theme=dark] .colab-df-convert:hover {\n",
              "      background-color: #434B5C;\n",
              "      box-shadow: 0px 1px 3px 1px rgba(0, 0, 0, 0.15);\n",
              "      filter: drop-shadow(0px 1px 2px rgba(0, 0, 0, 0.3));\n",
              "      fill: #FFFFFF;\n",
              "    }\n",
              "  </style>\n",
              "\n",
              "      <script>\n",
              "        const buttonEl =\n",
              "          document.querySelector('#df-96ce106c-0ffc-43b2-a59c-5a273e392425 button.colab-df-convert');\n",
              "        buttonEl.style.display =\n",
              "          google.colab.kernel.accessAllowed ? 'block' : 'none';\n",
              "\n",
              "        async function convertToInteractive(key) {\n",
              "          const element = document.querySelector('#df-96ce106c-0ffc-43b2-a59c-5a273e392425');\n",
              "          const dataTable =\n",
              "            await google.colab.kernel.invokeFunction('convertToInteractive',\n",
              "                                                     [key], {});\n",
              "          if (!dataTable) return;\n",
              "\n",
              "          const docLinkHtml = 'Like what you see? Visit the ' +\n",
              "            '<a target=\"_blank\" href=https://colab.research.google.com/notebooks/data_table.ipynb>data table notebook</a>'\n",
              "            + ' to learn more about interactive tables.';\n",
              "          element.innerHTML = '';\n",
              "          dataTable['output_type'] = 'display_data';\n",
              "          await google.colab.output.renderOutput(dataTable, element);\n",
              "          const docLink = document.createElement('div');\n",
              "          docLink.innerHTML = docLinkHtml;\n",
              "          element.appendChild(docLink);\n",
              "        }\n",
              "      </script>\n",
              "    </div>\n",
              "  </div>\n",
              "  "
            ],
            "text/plain": [
              "      label                                               text\n",
              "645       1  President Obama used his weekly radio address ...\n",
              "2486      4  The Obama administration indicated to reporter...\n",
              "794       2  THIS is what REAL racism looks like: Group of ...\n",
              "1059      2  McCarthy Says Shes Killing US Economy - To Sho...\n",
              "1477      2  Soros To Hillary: Clean Up On Aisle 9 - ONE OR..."
            ]
          },
          "execution_count": 38,
          "metadata": {},
          "output_type": "execute_result"
        }
      ],
      "source": [
        "test_df = pd.read_csv('/content/drive/MyDrive/NUS/Y3S2/CS4248/balancedtest.csv', header=None, names=['label', 'text'])\n",
        "print(f\"No. test samples (all classes): {len(test_df)}\")\n",
        "test_df.sample(5)"
      ]
    },
    {
      "cell_type": "code",
      "execution_count": null,
      "metadata": {
        "colab": {
          "base_uri": "https://localhost:8080/"
        },
        "id": "KR3JGH1Jyz3J",
        "outputId": "7e103e2d-bbe4-4ee8-e01a-eb9e5a90044d"
      },
      "outputs": [
        {
          "name": "stdout",
          "output_type": "stream",
          "text": [
            "After: ['many', 'actor', 'seem', 'content', 'churn', 'performance', 'quick', 'paycheck', 'performer', 'adheres', 'principle', 'really', 'stand', 'thats', 'jeff', 'bridge', 'made', 'wave', 'week', 'announced', 'perform', 'nude', 'scene', 'interview', 'month', 'gq', 'big', 'lebowski', 'star', 'made', 'clear', 'ready', 'move', 'new', 'phase', 'career', 'leaving', 'clothed', 'role', 'past', 'ive', 'ive', 'done', 'said', 'bridge', 'rattling', 'laundry', 'list', 'film', 'he', 'appeared', 'covered', 'finally', 'afford', 'take', 'role', 'excite', 'right', 'role', 'nude', 'scene', 'waste', 'time', 'anything', 'else', 'powerful', 'though', 'made', 'clear', 'doesnt', 'regret', 'previous', 'nonnude', 'role', 'jeff', 'admitted', 'hed', 'always', 'struggled', 'pressure', 'director', 'studio', 'stay', 'clothed', 'camera', 'towel', 'bathrobe', 'carefully', 'placed', 'plant', 'added', 'even', 'character', 'isnt', 'written', 'nude', 'director', 'work', 'figure', 'make', 'way', 'itll', 'challenge', 'u', 'one', 'cant', 'wait', 'tackle', 'part', 'jeffs', 'fan', 'nothing', 'supportive', 'wow', 'whether', 'agree', 'youve', 'got', 'respect', 'hollywood', 'star', 'much', 'conviction', 'keep', 'jeff']\n"
          ]
        }
      ],
      "source": [
        "X_val = test_df['text'].values\n",
        "y_val = test_df['label'].values\n",
        "\n",
        "# Do the same preprocessing steps as training data: preprocess, tokenize, pad sequences\n",
        "X_val = [preprocess(sentence) for sentence in X_val]\n",
        "X_val = [tokenize(sentence) for sentence in X_val]\n",
        "print(\"After:\", X_val[0])\n"
      ]
    },
    {
      "cell_type": "code",
      "execution_count": null,
      "metadata": {
        "colab": {
          "base_uri": "https://localhost:8080/"
        },
        "id": "Oc2-ou0Dyz3J",
        "outputId": "de7e0365-8285-48b0-cf62-6b6c101e6513"
      },
      "outputs": [
        {
          "data": {
            "text/plain": [
              "549"
            ]
          },
          "execution_count": 40,
          "metadata": {},
          "output_type": "execute_result"
        }
      ],
      "source": [
        "X_val = tokenizer.texts_to_sequences(X_val)\n",
        "X_val = pad_sequences(X_val, padding='post', maxlen=maxlen)\n",
        "len(X_val[0])"
      ]
    },
    {
      "cell_type": "code",
      "execution_count": null,
      "metadata": {
        "colab": {
          "base_uri": "https://localhost:8080/"
        },
        "id": "oWpFPPfeyz3J",
        "outputId": "6350b4c3-7beb-408a-f69f-5edb3e2d7732"
      },
      "outputs": [
        {
          "name": "stdout",
          "output_type": "stream",
          "text": [
            "94/94 [==============================] - 1s 4ms/step\n"
          ]
        },
        {
          "data": {
            "text/plain": [
              "[3, 3, 3, 3, 3]"
            ]
          },
          "execution_count": 41,
          "metadata": {},
          "output_type": "execute_result"
        }
      ],
      "source": [
        "y_pred = model.predict(X_val)\n",
        "predicted_indexes = np.argmax(y_pred, axis=1)\n",
        "y_pred_val = [pred_class + 1 for pred_class in predicted_indexes]\n",
        "y_pred_val[:5]"
      ]
    },
    {
      "cell_type": "code",
      "execution_count": null,
      "metadata": {
        "colab": {
          "base_uri": "https://localhost:8080/"
        },
        "id": "bAqMJzj4yz3J",
        "outputId": "fec20065-854e-4b9b-9a5c-76ef88b4d813"
      },
      "outputs": [
        {
          "name": "stdout",
          "output_type": "stream",
          "text": [
            "Accuracy: 0.25\n",
            "F1 score: 0.1\n"
          ]
        }
      ],
      "source": [
        "# y_pred_val = model.predict(X_val)\n",
        "print(f\"Accuracy: {accuracy_score(y_val, y_pred_val)}\")\n",
        "print(f\"F1 score: {f1_score(y_val, y_pred_val, average='macro')}\")"
      ]
    },
    {
      "cell_type": "code",
      "execution_count": null,
      "metadata": {
        "colab": {
          "base_uri": "https://localhost:8080/"
        },
        "id": "w6ZW1mYOyz3K",
        "outputId": "2b45ff55-73a9-4f55-d938-2d1e1736565f"
      },
      "outputs": [
        {
          "name": "stdout",
          "output_type": "stream",
          "text": [
            "              precision    recall  f1-score   support\n",
            "\n",
            "      satire       0.00      0.00      0.00       750\n",
            "        hoax       0.00      0.00      0.00       750\n",
            "  propaganda       0.25      1.00      0.40       750\n",
            "    reliable       0.00      0.00      0.00       750\n",
            "\n",
            "    accuracy                           0.25      3000\n",
            "   macro avg       0.06      0.25      0.10      3000\n",
            "weighted avg       0.06      0.25      0.10      3000\n",
            "\n"
          ]
        }
      ],
      "source": [
        "print(classification_report(y_val, y_pred_val, target_names=['satire', 'hoax', 'propaganda', 'reliable']))"
      ]
    },
    {
      "cell_type": "code",
      "execution_count": null,
      "metadata": {
        "colab": {
          "base_uri": "https://localhost:8080/",
          "height": 569
        },
        "id": "O3Xaoxcwyz3K",
        "outputId": "5c6e5f09-43e3-4cea-e7b4-87bfcaf7cbb0"
      },
      "outputs": [
        {
          "data": {
            "image/png": "[encoded data removed]",
            "text/plain": [
              "<Figure size 600x600 with 2 Axes>"
            ]
          },
          "metadata": {},
          "output_type": "display_data"
        }
      ],
      "source": [
        "cm = confusion_matrix(y_val, y_pred_val)\n",
        "plt.figure(figsize=(6, 6))\n",
        "sns.heatmap(cm, annot=True, fmt=\"d\")\n",
        "plt.title(\"Confusion matrix\")\n",
        "plt.ylabel('True label')\n",
        "plt.xlabel('Predicted label')\n",
        "plt.show()\t"
      ]
    },
    {
      "cell_type": "code",
      "execution_count": null,
      "metadata": {
        "id": "M94JY5vByz3K"
      },
      "outputs": [],
      "source": []
    }
  ],
  "metadata": {
    "accelerator": "GPU",
    "colab": {
      "provenance": []
    },
    "gpuClass": "standard",
    "kernelspec": {
      "display_name": "Python 3.8.0 64-bit",
      "language": "python",
      "name": "python3"
    },
    "language_info": {
      "codemirror_mode": {
        "name": "ipython",
        "version": 3
      },
      "file_extension": ".py",
      "mimetype": "text/x-python",
      "name": "python",
      "nbconvert_exporter": "python",
      "pygments_lexer": "ipython3",
      "version": "3.8.11"
    },
    "vscode": {
      "interpreter": {
        "hash": "aee8b7b246df8f9039afb4144a1f6fd8d2ca17a180786b69acc140d282b71a49"
      }
    }
  },
  "nbformat": 4,
  "nbformat_minor": 0
}
