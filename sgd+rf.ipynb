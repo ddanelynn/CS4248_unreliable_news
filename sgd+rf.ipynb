{
 "cells": [
  {
   "cell_type": "code",
   "execution_count": 15,
   "id": "47e9f639",
   "metadata": {},
   "outputs": [],
   "source": [
    "import pandas as pd\n",
    "from nltk.tokenize import word_tokenize\n",
    "from sklearn.model_selection import train_test_split\n",
    "from sklearn.feature_extraction.text import TfidfVectorizer, CountVectorizer, TfidfTransformer\n",
    "from sklearn.linear_model import SGDClassifier\n",
    "from sklearn.ensemble import RandomForestClassifier\n",
    "from sklearn.metrics import f1_score, accuracy_score\n",
    "from sklearn.pipeline import Pipeline"
   ]
  },
  {
   "cell_type": "code",
   "execution_count": 16,
   "id": "f158b1c2",
   "metadata": {},
   "outputs": [
    {
     "name": "stdout",
     "output_type": "stream",
     "text": [
      "   label                                               text\n",
      "0      1  A little less than a decade ago, hockey fans w...\n",
      "1      1  The writers of the HBO series The Sopranos too...\n",
      "2      1  Despite claims from the TV news outlet to offe...\n",
      "3      1  After receiving 'subpar' service and experienc...\n",
      "4      1  After watching his beloved Seattle Mariners pr...\n",
      "              label\n",
      "count  48854.000000\n",
      "mean       2.487432\n",
      "std        1.110903\n",
      "min        1.000000\n",
      "25%        1.000000\n",
      "50%        3.000000\n",
      "75%        3.000000\n",
      "max        4.000000\n"
     ]
    }
   ],
   "source": [
    "train_df = pd.read_csv('raw_data/fulltrain.csv', header=None)\n",
    "train_df.columns = ['label', 'text']\n",
    "print(train_df.head())\n",
    "print(train_df.describe())"
   ]
  },
  {
   "cell_type": "code",
   "execution_count": 17,
   "id": "2305ef89",
   "metadata": {},
   "outputs": [
    {
     "data": {
      "text/html": [
       "<div>\n",
       "<style scoped>\n",
       "    .dataframe tbody tr th:only-of-type {\n",
       "        vertical-align: middle;\n",
       "    }\n",
       "\n",
       "    .dataframe tbody tr th {\n",
       "        vertical-align: top;\n",
       "    }\n",
       "\n",
       "    .dataframe thead th {\n",
       "        text-align: right;\n",
       "    }\n",
       "</style>\n",
       "<table border=\"1\" class=\"dataframe\">\n",
       "  <thead>\n",
       "    <tr style=\"text-align: right;\">\n",
       "      <th></th>\n",
       "      <th>label</th>\n",
       "    </tr>\n",
       "  </thead>\n",
       "  <tbody>\n",
       "    <tr>\n",
       "      <th>count</th>\n",
       "      <td>20989.000000</td>\n",
       "    </tr>\n",
       "    <tr>\n",
       "      <th>mean</th>\n",
       "      <td>1.330745</td>\n",
       "    </tr>\n",
       "    <tr>\n",
       "      <th>std</th>\n",
       "      <td>0.470492</td>\n",
       "    </tr>\n",
       "    <tr>\n",
       "      <th>min</th>\n",
       "      <td>1.000000</td>\n",
       "    </tr>\n",
       "    <tr>\n",
       "      <th>25%</th>\n",
       "      <td>1.000000</td>\n",
       "    </tr>\n",
       "    <tr>\n",
       "      <th>50%</th>\n",
       "      <td>1.000000</td>\n",
       "    </tr>\n",
       "    <tr>\n",
       "      <th>75%</th>\n",
       "      <td>2.000000</td>\n",
       "    </tr>\n",
       "    <tr>\n",
       "      <th>max</th>\n",
       "      <td>2.000000</td>\n",
       "    </tr>\n",
       "  </tbody>\n",
       "</table>\n",
       "</div>"
      ],
      "text/plain": [
       "              label\n",
       "count  20989.000000\n",
       "mean       1.330745\n",
       "std        0.470492\n",
       "min        1.000000\n",
       "25%        1.000000\n",
       "50%        1.000000\n",
       "75%        2.000000\n",
       "max        2.000000"
      ]
     },
     "execution_count": 17,
     "metadata": {},
     "output_type": "execute_result"
    }
   ],
   "source": [
    "# 2-way dataset - satire and hoax\n",
    "labels = [1, 2]\n",
    "train_df = train_df[train_df['label'].isin(labels)]\n",
    "\n",
    "train_df.describe()"
   ]
  },
  {
   "cell_type": "code",
   "execution_count": 18,
   "id": "2ccb7cbc",
   "metadata": {},
   "outputs": [],
   "source": [
    "X_train, X_test, y_train, y_test = train_test_split(train_df['text'], train_df['label'])"
   ]
  },
  {
   "cell_type": "markdown",
   "id": "baf2867a",
   "metadata": {},
   "source": [
    "### Random Forest"
   ]
  },
  {
   "cell_type": "code",
   "execution_count": 19,
   "id": "286e22b2",
   "metadata": {},
   "outputs": [],
   "source": [
    "tfidf_random_forest = TfidfVectorizer(sublinear_tf=True, stop_words='english', tokenizer=word_tokenize)\n",
    "\n",
    "random_forest_features = tfidf_random_forest.fit_transform(X_train).toarray()\n",
    "random_forest_features.shape"
   ]
  },
  {
   "cell_type": "code",
   "execution_count": 20,
   "id": "2df59137",
   "metadata": {},
   "outputs": [],
   "source": [
    "rf = RandomForestClassifier(n_estimators=50, max_depth=3, random_state=0).fit(random_forest_features, y_train)\n",
    "\n",
    "# rf_test = tfidf_random_forest.fit_transform(X_test).toarray()\n",
    "\n",
    "y_pred = rf.predict(random_forest_features)\n",
    "print(f\"Accuracy: {accuracy_score(y_train, y_pred)}\")\n",
    "print(f\"F1 score: {f1_score(y_train, y_pred, average='macro')}\")"
   ]
  },
  {
   "cell_type": "markdown",
   "id": "2b2abb42",
   "metadata": {},
   "source": [
    "## Linear Support Vector Machine"
   ]
  },
  {
   "cell_type": "code",
   "execution_count": 21,
   "id": "389d360b",
   "metadata": {},
   "outputs": [
    {
     "name": "stdout",
     "output_type": "stream",
     "text": [
      "Accuracy: 0.9799923780487805\n",
      "F1 score: 0.9768968209356461\n"
     ]
    }
   ],
   "source": [
    "# CountVectorizer - counts number of times a word appears in text\n",
    "# TfidfTransformer - weights words from count matrix (via CountVectorizer)\n",
    "sgd = Pipeline([('vect', CountVectorizer(tokenizer=word_tokenize, stop_words='english')),\n",
    "                ('tfidf', TfidfTransformer(sublinear_tf=True)),\n",
    "                ('clf', SGDClassifier(loss='hinge', penalty='l2',alpha=1e-3, random_state=0, max_iter=5, tol=None)),\n",
    "               ])\n",
    "\n",
    "sgd.fit(X_train, y_train)\n",
    "\n",
    "y_pred = sgd.predict(X_test)\n",
    "\n",
    "print(f\"Accuracy: {accuracy_score(y_test, y_pred)}\")\n",
    "print(f\"F1 score: {f1_score(y_test, y_pred, average='macro')}\")"
   ]
  },
  {
   "cell_type": "markdown",
   "id": "9d2a6180",
   "metadata": {},
   "source": [
    "## balancedtest.csv Results"
   ]
  },
  {
   "cell_type": "code",
   "execution_count": 22,
   "id": "e04dd711",
   "metadata": {},
   "outputs": [
    {
     "name": "stdout",
     "output_type": "stream",
     "text": [
      "Accuracy: 0.8066666666666666\n",
      "F1 score: 0.8049183886169207\n"
     ]
    }
   ],
   "source": [
    "test_df = pd.read_csv('raw_data/balancedtest.csv', header=None)\n",
    "test_df.columns = ['label', 'text']\n",
    "\n",
    "test_df = test_df[test_df['label'].isin(labels)]\n",
    "\n",
    "X_test = test_df['text']\n",
    "y_test = test_df['label']\n",
    "\n",
    "y_pred = sgd.predict(X_test)\n",
    "\n",
    "print(f\"Accuracy: {accuracy_score(y_test, y_pred)}\")\n",
    "print(f\"F1 score: {f1_score(y_test, y_pred, average='macro')}\")"
   ]
  },
  {
   "cell_type": "code",
   "execution_count": 23,
   "id": "fb7d308a",
   "metadata": {},
   "outputs": [],
   "source": [
    "y_pred = rf.predict(tfidf_random_forest.fit_transform(X_test).toarray())\n",
    "\n",
    "print(f\"Accuracy: {accuracy_score(y_test, y_pred)}\")\n",
    "print(f\"F1 score: {f1_score(y_test, y_pred, average='macro')}\")"
   ]
  }
 ],
 "metadata": {
  "kernelspec": {
   "display_name": "Python 3.8.0 64-bit",
   "language": "python",
   "name": "python3"
  },
  "language_info": {
   "codemirror_mode": {
    "name": "ipython",
    "version": 3
   },
   "file_extension": ".py",
   "mimetype": "text/x-python",
   "name": "python",
   "nbconvert_exporter": "python",
   "pygments_lexer": "ipython3",
   "version": "3.8.0"
  },
  "vscode": {
   "interpreter": {
    "hash": "aee8b7b246df8f9039afb4144a1f6fd8d2ca17a180786b69acc140d282b71a49"
   }
  }
 },
 "nbformat": 4,
 "nbformat_minor": 5
}
