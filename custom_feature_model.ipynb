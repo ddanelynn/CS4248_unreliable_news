{
 "cells": [
  {
   "cell_type": "markdown",
   "metadata": {},
   "source": [
    "# CS4248 Project - Labelled Unreliable News (LUN)"
   ]
  },
  {
   "cell_type": "markdown",
   "metadata": {},
   "source": [
    "## Imports"
   ]
  },
  {
   "cell_type": "code",
   "execution_count": 38,
   "metadata": {},
   "outputs": [],
   "source": [
    "import nltk\n",
    "import re\n",
    "import matplotlib.pyplot as plt\n",
    "import numpy as np\n",
    "import pandas as pd\n",
    "import seaborn as sns\n",
    "import string\n",
    "\n",
    "from nltk.corpus import stopwords\n",
    "from nltk.tag import pos_tag\n",
    "from nltk.tokenize import word_tokenize, sent_tokenize\n",
    "from sklearn.feature_extraction.text import TfidfVectorizer, CountVectorizer, TfidfTransformer\n",
    "from sklearn.linear_model import LogisticRegression\n",
    "from sklearn.metrics import f1_score, accuracy_score, confusion_matrix, classification_report\n",
    "from sklearn.model_selection import train_test_split, GridSearchCV\n",
    "from sklearn.naive_bayes import MultinomialNB\n",
    "from sklearn.pipeline import Pipeline\n",
    "from sklearn.linear_model import SGDClassifier\n",
    "from sklearn.ensemble import RandomForestClassifier\n",
    "from textblob import TextBlob\n",
    "from readability import Readability\n",
    "\n",
    "import warnings\n",
    "warnings.filterwarnings('ignore')"
   ]
  },
  {
   "cell_type": "code",
   "execution_count": 39,
   "metadata": {},
   "outputs": [],
   "source": [
    "# A list of contractions from http://stackoverflow.com/questions/19790188/expanding-english-language-contractions-in-python\n",
    "contractions = { \n",
    "    \"ain't\": \"am not\",\n",
    "    \"aren't\": \"are not\",\n",
    "    \"can't\": \"cannot\",\n",
    "    \"can't've\": \"cannot have\",\n",
    "    \"'cause\": \"because\",\n",
    "    \"could've\": \"could have\",\n",
    "    \"couldn't\": \"could not\",\n",
    "    \"couldn't've\": \"could not have\",\n",
    "    \"didn't\": \"did not\",\n",
    "    \"doesn't\": \"does not\",\n",
    "    \"don't\": \"do not\",\n",
    "    \"hadn't\": \"had not\",\n",
    "    \"hadn't've\": \"had not have\",\n",
    "    \"hasn't\": \"has not\",\n",
    "    \"haven't\": \"have not\",\n",
    "    \"he'd\": \"he would\",\n",
    "    \"he'd've\": \"he would have\",\n",
    "    \"he'll\": \"he will\",\n",
    "    \"he's\": \"he is\",\n",
    "    \"how'd\": \"how did\",\n",
    "    \"how'll\": \"how will\",\n",
    "    \"how's\": \"how is\",\n",
    "    \"i'd\": \"i would\",\n",
    "    \"i'll\": \"i will\",\n",
    "    \"i'm\": \"i am\",\n",
    "    \"i've\": \"i have\",\n",
    "    \"isn't\": \"is not\",\n",
    "    \"it'd\": \"it would\",\n",
    "    \"it'll\": \"it will\",\n",
    "    \"it's\": \"it is\",\n",
    "    \"let's\": \"let us\",\n",
    "    \"ma'am\": \"madam\",\n",
    "    \"mayn't\": \"may not\",\n",
    "    \"might've\": \"might have\",\n",
    "    \"mightn't\": \"might not\",\n",
    "    \"must've\": \"must have\",\n",
    "    \"mustn't\": \"must not\",\n",
    "    \"needn't\": \"need not\",\n",
    "    \"oughtn't\": \"ought not\",\n",
    "    \"shan't\": \"shall not\",\n",
    "    \"sha'n't\": \"shall not\",\n",
    "    \"she'd\": \"she would\",\n",
    "    \"she'll\": \"she will\",\n",
    "    \"she's\": \"she is\",\n",
    "    \"should've\": \"should have\",\n",
    "    \"shouldn't\": \"should not\",\n",
    "    \"that'd\": \"that would\",\n",
    "    \"that's\": \"that is\",\n",
    "    \"there'd\": \"there had\",\n",
    "    \"there's\": \"there is\",\n",
    "    \"they'd\": \"they would\",\n",
    "    \"they'll\": \"they will\",\n",
    "    \"they're\": \"they are\",\n",
    "    \"they've\": \"they have\",\n",
    "    \"wasn't\": \"was not\",\n",
    "    \"we'd\": \"we would\",\n",
    "    \"we'll\": \"we will\",\n",
    "    \"we're\": \"we are\",\n",
    "    \"we've\": \"we have\",\n",
    "    \"weren't\": \"were not\",\n",
    "    \"what'll\": \"what will\",\n",
    "    \"what're\": \"what are\",\n",
    "    \"what's\": \"what is\",\n",
    "    \"what've\": \"what have\",\n",
    "    \"where'd\": \"where did\",\n",
    "    \"where's\": \"where is\",\n",
    "    \"who'll\": \"who will\",\n",
    "    \"who's\": \"who is\",\n",
    "    \"won't\": \"will not\",\n",
    "    \"wouldn't\": \"would not\",\n",
    "    \"you'd\": \"you would\",\n",
    "    \"you'll\": \"you will\",\n",
    "    \"you're\": \"you are\"\n",
    "}\n",
    "\n",
    "stop_words = set(stopwords.words('english'))\n",
    "TEST_SIZE = 0.1"
   ]
  },
  {
   "cell_type": "markdown",
   "metadata": {},
   "source": [
    "## Load Data"
   ]
  },
  {
   "cell_type": "code",
   "execution_count": 40,
   "metadata": {},
   "outputs": [
    {
     "data": {
      "text/html": [
       "<div>\n",
       "<style scoped>\n",
       "    .dataframe tbody tr th:only-of-type {\n",
       "        vertical-align: middle;\n",
       "    }\n",
       "\n",
       "    .dataframe tbody tr th {\n",
       "        vertical-align: top;\n",
       "    }\n",
       "\n",
       "    .dataframe thead th {\n",
       "        text-align: right;\n",
       "    }\n",
       "</style>\n",
       "<table border=\"1\" class=\"dataframe\">\n",
       "  <thead>\n",
       "    <tr style=\"text-align: right;\">\n",
       "      <th></th>\n",
       "      <th>label</th>\n",
       "      <th>text</th>\n",
       "    </tr>\n",
       "  </thead>\n",
       "  <tbody>\n",
       "    <tr>\n",
       "      <th>0</th>\n",
       "      <td>1</td>\n",
       "      <td>A little less than a decade ago, hockey fans w...</td>\n",
       "    </tr>\n",
       "    <tr>\n",
       "      <th>1</th>\n",
       "      <td>1</td>\n",
       "      <td>The writers of the HBO series The Sopranos too...</td>\n",
       "    </tr>\n",
       "    <tr>\n",
       "      <th>2</th>\n",
       "      <td>1</td>\n",
       "      <td>Despite claims from the TV news outlet to offe...</td>\n",
       "    </tr>\n",
       "    <tr>\n",
       "      <th>3</th>\n",
       "      <td>1</td>\n",
       "      <td>After receiving 'subpar' service and experienc...</td>\n",
       "    </tr>\n",
       "    <tr>\n",
       "      <th>4</th>\n",
       "      <td>1</td>\n",
       "      <td>After watching his beloved Seattle Mariners pr...</td>\n",
       "    </tr>\n",
       "  </tbody>\n",
       "</table>\n",
       "</div>"
      ],
      "text/plain": [
       "   label                                               text\n",
       "0      1  A little less than a decade ago, hockey fans w...\n",
       "1      1  The writers of the HBO series The Sopranos too...\n",
       "2      1  Despite claims from the TV news outlet to offe...\n",
       "3      1  After receiving 'subpar' service and experienc...\n",
       "4      1  After watching his beloved Seattle Mariners pr..."
      ]
     },
     "execution_count": 40,
     "metadata": {},
     "output_type": "execute_result"
    }
   ],
   "source": [
    "full_train_df = pd.read_csv('raw_data/fulltrain.csv', header=None)\n",
    "full_train_df.columns = ['label', 'text']\n",
    "full_train_df.head()"
   ]
  },
  {
   "cell_type": "code",
   "execution_count": 41,
   "metadata": {},
   "outputs": [
    {
     "name": "stdout",
     "output_type": "stream",
     "text": [
      "No. training samples (all classes): 48652\n"
     ]
    }
   ],
   "source": [
    "train_df = full_train_df.drop_duplicates(subset=['text'])\n",
    "print(f\"No. training samples (all classes): {len(train_df)}\")"
   ]
  },
  {
   "cell_type": "code",
   "execution_count": 42,
   "metadata": {},
   "outputs": [
    {
     "name": "stdout",
     "output_type": "stream",
     "text": [
      "No. training samples (all classes): 10000\n"
     ]
    }
   ],
   "source": [
    "train_df = train_df.sample(10000)\n",
    "print(f\"No. training samples (all classes): {len(train_df)}\")"
   ]
  },
  {
   "cell_type": "markdown",
   "metadata": {},
   "source": [
    "## Feature Engineering"
   ]
  },
  {
   "cell_type": "code",
   "execution_count": 43,
   "metadata": {},
   "outputs": [],
   "source": [
    "def contraction_count(text):\n",
    "    count = 0\n",
    "    for contract in contractions:\n",
    "        count += re.subn(contract, '', text)[1]\n",
    "    return count\n",
    "\n",
    "def count_stopwords(text):  \n",
    "    stopwords = nltk.corpus.stopwords.words(\"english\")\n",
    "    word_tokens = word_tokenize(text)\n",
    "    stopwords_list = [w for w in word_tokens if w in stopwords]\n",
    "    return len(stopwords_list)\n",
    "\n",
    "def count_special_characters(text):\n",
    "    count = 0\n",
    "    for i in range(len(text)):\n",
    "        if(not text[i].isalpha() and not text[i].isdigit()):\n",
    "            count += 1\n",
    "    return count\n",
    "\n",
    "def count_uppercase(text):\n",
    "    count = 0\n",
    "    for i in range(len(text)):\n",
    "        if(text[i].isupper()):\n",
    "            count += 1\n",
    "    return count\n",
    "\n",
    "def count_lowercase(text):\n",
    "    count = 0\n",
    "    for i in range(len(text)):\n",
    "        if(text[i].islower()):\n",
    "            count += 1\n",
    "    return count\n",
    "\n",
    "def count_noun_verb_adverb_adjective(text):\n",
    "    word_tokens = word_tokenize(text)\n",
    "    word_tagged = pos_tag(word_tokens, tagset='universal')\n",
    "    noun_count = 0\n",
    "    verb_count = 0\n",
    "    adv_count = 0\n",
    "    adj_count = 0\n",
    "    for pair in word_tagged:\n",
    "        tag = pair[1]\n",
    "        if tag == 'NOUN':\n",
    "            noun_count += 1\n",
    "        elif tag == 'VERB':\n",
    "            verb_count += 1\n",
    "        elif tag == 'ADV':\n",
    "            adv_count += 1\n",
    "        elif tag == 'ADJ':\n",
    "            adj_count += 1\n",
    "    return (noun_count, verb_count, adv_count, adj_count)\n",
    "\n",
    "def count_syllable(text):\n",
    "    words = word_tokenize(text)\n",
    "    count = 0\n",
    "    vowels = \"aeiouy\"\n",
    "    for word in words:\n",
    "        count += count_syllable_in_word(word, vowels)\n",
    "    return count\n",
    "\n",
    "def count_syllable_in_word(word, vowels):\n",
    "    count = 0\n",
    "    word = word.lower()\n",
    "    if word[0] in vowels:\n",
    "        count += 1\n",
    "    for index in range(1, len(word)):\n",
    "        if word[index] in vowels and word[index - 1] not in vowels:\n",
    "            count += 1\n",
    "    if word.endswith(\"e\"):\n",
    "        count -= 1\n",
    "    if count == 0:\n",
    "        count += 1\n",
    "    return count\n",
    "\n",
    "def count_article(text):\n",
    "    count = 0\n",
    "    words = text.split(\" \")\n",
    "    for word in words:\n",
    "        word = word.lower()\n",
    "        if word == \"a\" or word == \"an\" or word == \"the\":\n",
    "            count += 1\n",
    "    return count\n",
    "\n",
    "def get_gunning_fog_grade_index(text):\n",
    "    # 0.4 [(words/sentences) + 100 (complex words/words)]\n",
    "    # Complex words are those containing three or more syllables.\n",
    "    sents = sent_tokenize(text)\n",
    "    words = word_tokenize(text)\n",
    "    num_sents = len(sents)\n",
    "    num_words = len(words)\n",
    "    num_complex_words = 0\n",
    "    for word in words:\n",
    "        if count_syllable_in_word(word, \"aeiouy\") >= 3:\n",
    "            num_complex_words += 1\n",
    "    return 0.4*((num_words/num_sents) + 100*(num_complex_words/num_words))\n",
    "    \n",
    "def get_dale_chall_readability_coleman_liau_index(text):\n",
    "    try:\n",
    "        r = Readability(text)\n",
    "        return (r.dale_chall().score, r.coleman_liau().score)\n",
    "    except:\n",
    "        return (0, 0)"
   ]
  },
  {
   "cell_type": "code",
   "execution_count": 44,
   "metadata": {},
   "outputs": [],
   "source": [
    "# Complexity Features\n",
    "train_df['num_stopwords'] = train_df['text'].apply(lambda x: count_stopwords(x))\n",
    "train_df['num_sentences'] = train_df['text'].apply(lambda x: len(str(x).split('.')))\n",
    "train_df['num_contractions'] = train_df['text'].apply(lambda x: contraction_count(x))\n",
    "train_df['num_special_characters'] = train_df['text'].apply(lambda x: count_special_characters(x))\n",
    "train_df['num_uppercase'] = train_df['text'].apply(lambda x: count_uppercase(x))\n",
    "train_df['num_lowercase'] = train_df['text'].apply(lambda x: count_lowercase(x))"
   ]
  },
  {
   "cell_type": "code",
   "execution_count": 45,
   "metadata": {},
   "outputs": [],
   "source": [
    "# Stylometric Features\n",
    "train_df['pos_tags'] = train_df['text'].apply(lambda x: count_noun_verb_adverb_adjective(x))\n",
    "train_df['num_noun'] = train_df['pos_tags'].apply(lambda x: x[0])\n",
    "train_df['num_verb'] = train_df['pos_tags'].apply(lambda x: x[1])\n",
    "train_df['num_adverb'] = train_df['pos_tags'].apply(lambda x: x[2])\n",
    "train_df['num_adjective'] = train_df['pos_tags'].apply(lambda x: x[3])\n",
    "train_df['num_syllables'] = train_df['text'].apply(lambda x: count_syllable(x))\n",
    "train_df['num_article'] = train_df['text'].apply(lambda x: count_article(x))"
   ]
  },
  {
   "cell_type": "code",
   "execution_count": 46,
   "metadata": {},
   "outputs": [],
   "source": [
    "# Readability based evidence\n",
    "train_df['gunning_fog_grade_index'] = train_df['text'].apply(lambda x: get_gunning_fog_grade_index(x))\n",
    "train_df['readability_indices'] = train_df['text'].apply(lambda x: get_dale_chall_readability_coleman_liau_index(x))\n",
    "train_df['dale_chall_readability'] = train_df['readability_indices'].apply(lambda x: x[0])\n",
    "train_df['coleman_liau_index'] = train_df['readability_indices'].apply(lambda x: x[1])"
   ]
  },
  {
   "cell_type": "code",
   "execution_count": 47,
   "metadata": {},
   "outputs": [],
   "source": [
    "# Psycho-linguistic features\n",
    "train_df['psycho-linguistic'] = train_df['text'].apply(lambda x: TextBlob(x).sentiment)\n",
    "train_df['polarity'] = train_df['psycho-linguistic'].apply(lambda x: x[0])\n",
    "train_df['subjectivity'] = train_df['psycho-linguistic'].apply(lambda x: x[1])"
   ]
  },
  {
   "cell_type": "code",
   "execution_count": 48,
   "metadata": {},
   "outputs": [],
   "source": [
    "features = ['num_stopwords', 'num_sentences', 'num_contractions', 'num_special_characters', 'num_uppercase', 'num_lowercase',\n",
    "            'num_noun', 'num_verb', 'num_adverb', 'num_adjective', 'num_syllables', 'num_article',\n",
    "            'gunning_fog_grade_index', 'dale_chall_readability', 'coleman_liau_index',\n",
    "            'polarity', 'subjectivity', ]"
   ]
  },
  {
   "cell_type": "code",
   "execution_count": 49,
   "metadata": {},
   "outputs": [],
   "source": [
    "X = train_df[features]\n",
    "y = train_df['label'].values"
   ]
  },
  {
   "cell_type": "code",
   "execution_count": 50,
   "metadata": {},
   "outputs": [],
   "source": [
    "X_train, X_test, y_train, y_test = train_test_split(X, y, test_size=TEST_SIZE, stratify=y, random_state=42)"
   ]
  },
  {
   "cell_type": "markdown",
   "metadata": {},
   "source": [
    "## Logistic Regression with Custom Features"
   ]
  },
  {
   "cell_type": "code",
   "execution_count": 51,
   "metadata": {},
   "outputs": [
    {
     "name": "stdout",
     "output_type": "stream",
     "text": [
      "Accuracy: 0.7957777777777778\n",
      "F1 score: 0.7842154245253229\n"
     ]
    }
   ],
   "source": [
    "logreg = LogisticRegression(random_state=42, solver='newton-cg').fit(X_train, y_train)\n",
    "y_pred = logreg.predict(X_train)\n",
    "print(f\"Accuracy: {accuracy_score(y_train, y_pred)}\")\n",
    "print(f\"F1 score: {f1_score(y_train, y_pred, average='macro')}\")"
   ]
  },
  {
   "cell_type": "code",
   "execution_count": 52,
   "metadata": {},
   "outputs": [
    {
     "name": "stdout",
     "output_type": "stream",
     "text": [
      "Searched best score is: 0.794888888888889\n",
      "Searched best Regularization strength is: {'C': 0.1}\n"
     ]
    }
   ],
   "source": [
    "param_grid_ = {'C': [0.0001, 0.001, 0.01, 0.1, 1, 10]}\n",
    "logreg_search = GridSearchCV(LogisticRegression(random_state=42, solver='newton-cg'), param_grid=param_grid_)\n",
    "logreg_search.fit(X_train, y_train)\n",
    "print(\"Searched best score is:\", logreg_search.best_score_)\n",
    "print(\"Searched best Regularization strength is:\", logreg_search.best_params_)"
   ]
  },
  {
   "cell_type": "code",
   "execution_count": 53,
   "metadata": {},
   "outputs": [
    {
     "data": {
      "text/html": [
       "<div>\n",
       "<style scoped>\n",
       "    .dataframe tbody tr th:only-of-type {\n",
       "        vertical-align: middle;\n",
       "    }\n",
       "\n",
       "    .dataframe tbody tr th {\n",
       "        vertical-align: top;\n",
       "    }\n",
       "\n",
       "    .dataframe thead th {\n",
       "        text-align: right;\n",
       "    }\n",
       "</style>\n",
       "<table border=\"1\" class=\"dataframe\">\n",
       "  <thead>\n",
       "    <tr style=\"text-align: right;\">\n",
       "      <th></th>\n",
       "      <th>C</th>\n",
       "      <th>logreg</th>\n",
       "    </tr>\n",
       "  </thead>\n",
       "  <tbody>\n",
       "    <tr>\n",
       "      <th>0</th>\n",
       "      <td>0.0001</td>\n",
       "      <td>0.764222</td>\n",
       "    </tr>\n",
       "    <tr>\n",
       "      <th>1</th>\n",
       "      <td>0.0010</td>\n",
       "      <td>0.772556</td>\n",
       "    </tr>\n",
       "    <tr>\n",
       "      <th>2</th>\n",
       "      <td>0.0100</td>\n",
       "      <td>0.785444</td>\n",
       "    </tr>\n",
       "    <tr>\n",
       "      <th>3</th>\n",
       "      <td>0.1000</td>\n",
       "      <td>0.794889</td>\n",
       "    </tr>\n",
       "    <tr>\n",
       "      <th>4</th>\n",
       "      <td>1.0000</td>\n",
       "      <td>0.794444</td>\n",
       "    </tr>\n",
       "    <tr>\n",
       "      <th>5</th>\n",
       "      <td>10.0000</td>\n",
       "      <td>0.793778</td>\n",
       "    </tr>\n",
       "  </tbody>\n",
       "</table>\n",
       "</div>"
      ],
      "text/plain": [
       "         C    logreg\n",
       "0   0.0001  0.764222\n",
       "1   0.0010  0.772556\n",
       "2   0.0100  0.785444\n",
       "3   0.1000  0.794889\n",
       "4   1.0000  0.794444\n",
       "5  10.0000  0.793778"
      ]
     },
     "execution_count": 53,
     "metadata": {},
     "output_type": "execute_result"
    }
   ],
   "source": [
    "search_results = pd.DataFrame.from_dict({'C': [0.0001, 0.001, 0.01, 0.1, 1, 10],\n",
    "                                         'logreg': logreg_search.cv_results_['mean_test_score']})\n",
    "search_results"
   ]
  },
  {
   "cell_type": "markdown",
   "metadata": {},
   "source": [
    "### Rebuild Model with Best C"
   ]
  },
  {
   "cell_type": "code",
   "execution_count": 54,
   "metadata": {},
   "outputs": [
    {
     "name": "stdout",
     "output_type": "stream",
     "text": [
      "Accuracy: 0.7978888888888889\n",
      "F1 score: 0.7861738496057294\n"
     ]
    }
   ],
   "source": [
    "logreg = LogisticRegression(solver='newton-cg', C=logreg_search.best_params_['C']).fit(X_train, y_train)\n",
    "y_pred = logreg.predict(X_train)\n",
    "print(f\"Accuracy: {accuracy_score(y_train, y_pred)}\")\n",
    "print(f\"F1 score: {f1_score(y_train, y_pred, average='macro')}\")"
   ]
  },
  {
   "cell_type": "markdown",
   "metadata": {},
   "source": [
    "### Testing"
   ]
  },
  {
   "cell_type": "code",
   "execution_count": 55,
   "metadata": {},
   "outputs": [
    {
     "name": "stdout",
     "output_type": "stream",
     "text": [
      "Accuracy: 0.776\n",
      "F1 score: 0.7674448400791498\n"
     ]
    }
   ],
   "source": [
    "y_pred = logreg.predict(X_test)\n",
    "print(f\"Accuracy: {accuracy_score(y_test, y_pred)}\")\n",
    "print(f\"F1 score: {f1_score(y_test, y_pred, average='macro')}\")"
   ]
  },
  {
   "cell_type": "markdown",
   "metadata": {},
   "source": [
    "### Validation"
   ]
  },
  {
   "cell_type": "code",
   "execution_count": 56,
   "metadata": {},
   "outputs": [
    {
     "name": "stdout",
     "output_type": "stream",
     "text": [
      "No. test samples (all classes): 3000\n"
     ]
    },
    {
     "data": {
      "text/html": [
       "<div>\n",
       "<style scoped>\n",
       "    .dataframe tbody tr th:only-of-type {\n",
       "        vertical-align: middle;\n",
       "    }\n",
       "\n",
       "    .dataframe tbody tr th {\n",
       "        vertical-align: top;\n",
       "    }\n",
       "\n",
       "    .dataframe thead th {\n",
       "        text-align: right;\n",
       "    }\n",
       "</style>\n",
       "<table border=\"1\" class=\"dataframe\">\n",
       "  <thead>\n",
       "    <tr style=\"text-align: right;\">\n",
       "      <th></th>\n",
       "      <th>label</th>\n",
       "      <th>text</th>\n",
       "    </tr>\n",
       "  </thead>\n",
       "  <tbody>\n",
       "    <tr>\n",
       "      <th>1331</th>\n",
       "      <td>2</td>\n",
       "      <td>Heartless Bill Clinton Mocks The Coal People H...</td>\n",
       "    </tr>\n",
       "    <tr>\n",
       "      <th>1921</th>\n",
       "      <td>3</td>\n",
       "      <td>At the time, it became one of the most conspi...</td>\n",
       "    </tr>\n",
       "    <tr>\n",
       "      <th>517</th>\n",
       "      <td>1</td>\n",
       "      <td>Indiana Governor Mike Pence is stunned and ama...</td>\n",
       "    </tr>\n",
       "    <tr>\n",
       "      <th>124</th>\n",
       "      <td>1</td>\n",
       "      <td>Moments after approving a new law legalizing g...</td>\n",
       "    </tr>\n",
       "    <tr>\n",
       "      <th>1221</th>\n",
       "      <td>2</td>\n",
       "      <td>Muhammad And The Book of Love, Uh, Koran. Yeah...</td>\n",
       "    </tr>\n",
       "  </tbody>\n",
       "</table>\n",
       "</div>"
      ],
      "text/plain": [
       "      label                                               text\n",
       "1331      2  Heartless Bill Clinton Mocks The Coal People H...\n",
       "1921      3   At the time, it became one of the most conspi...\n",
       "517       1  Indiana Governor Mike Pence is stunned and ama...\n",
       "124       1  Moments after approving a new law legalizing g...\n",
       "1221      2  Muhammad And The Book of Love, Uh, Koran. Yeah..."
      ]
     },
     "execution_count": 56,
     "metadata": {},
     "output_type": "execute_result"
    }
   ],
   "source": [
    "test_df = pd.read_csv('raw_data/balancedtest.csv', header=None, names=['label', 'text'])\n",
    "print(f\"No. test samples (all classes): {len(test_df)}\")\n",
    "test_df.sample(5)"
   ]
  },
  {
   "cell_type": "code",
   "execution_count": 57,
   "metadata": {},
   "outputs": [],
   "source": [
    "# Complexity Features\n",
    "test_df['num_stopwords'] = test_df['text'].apply(lambda x: count_stopwords(x))\n",
    "test_df['num_sentences'] = test_df['text'].apply(lambda x: len(str(x).split('.')))\n",
    "test_df['num_contractions'] = test_df['text'].apply(lambda x: contraction_count(x))\n",
    "test_df['num_special_characters'] = test_df['text'].apply(lambda x: count_special_characters(x))\n",
    "test_df['num_uppercase'] = test_df['text'].apply(lambda x: count_uppercase(x))\n",
    "test_df['num_lowercase'] = test_df['text'].apply(lambda x: count_lowercase(x))"
   ]
  },
  {
   "cell_type": "code",
   "execution_count": 58,
   "metadata": {},
   "outputs": [],
   "source": [
    "# Stylometric Features\n",
    "test_df['pos_tags'] = test_df['text'].apply(lambda x: count_noun_verb_adverb_adjective(x))\n",
    "test_df['num_noun'] = test_df['pos_tags'].apply(lambda x: x[0])\n",
    "test_df['num_verb'] = test_df['pos_tags'].apply(lambda x: x[1])\n",
    "test_df['num_adverb'] = test_df['pos_tags'].apply(lambda x: x[2])\n",
    "test_df['num_adjective'] = test_df['pos_tags'].apply(lambda x: x[3])\n",
    "test_df['num_syllables'] = test_df['text'].apply(lambda x: count_syllable(x))\n",
    "test_df['num_article'] = test_df['text'].apply(lambda x: count_article(x))"
   ]
  },
  {
   "cell_type": "code",
   "execution_count": 59,
   "metadata": {},
   "outputs": [],
   "source": [
    "# Readability based evidence\n",
    "test_df['gunning_fog_grade_index'] = test_df['text'].apply(lambda x: get_gunning_fog_grade_index(x))\n",
    "test_df['readability_indices'] = test_df['text'].apply(lambda x: get_dale_chall_readability_coleman_liau_index(x))\n",
    "test_df['dale_chall_readability'] = test_df['readability_indices'].apply(lambda x: x[0])\n",
    "test_df['coleman_liau_index'] = test_df['readability_indices'].apply(lambda x: x[1])"
   ]
  },
  {
   "cell_type": "code",
   "execution_count": 60,
   "metadata": {},
   "outputs": [],
   "source": [
    "# Psycho-linguistic features\n",
    "test_df['psycho-linguistic'] = test_df['text'].apply(lambda x: TextBlob(x).sentiment)\n",
    "test_df['polarity'] = test_df['psycho-linguistic'].apply(lambda x: x[0])\n",
    "test_df['subjectivity'] = test_df['psycho-linguistic'].apply(lambda x: x[1])"
   ]
  },
  {
   "cell_type": "code",
   "execution_count": 61,
   "metadata": {},
   "outputs": [],
   "source": [
    "X_val = test_df[features]\n",
    "y_val = test_df['label'].values"
   ]
  },
  {
   "cell_type": "code",
   "execution_count": 62,
   "metadata": {},
   "outputs": [
    {
     "name": "stdout",
     "output_type": "stream",
     "text": [
      "Accuracy: 0.381\n",
      "F1 score: 0.3693342026961106\n"
     ]
    }
   ],
   "source": [
    "y_pred_val = logreg.predict(X_val)\n",
    "print(f\"Accuracy: {accuracy_score(y_val, y_pred_val)}\")\n",
    "print(f\"F1 score: {f1_score(y_val, y_pred_val, average='macro')}\")"
   ]
  },
  {
   "cell_type": "code",
   "execution_count": 63,
   "metadata": {},
   "outputs": [
    {
     "name": "stdout",
     "output_type": "stream",
     "text": [
      "              precision    recall  f1-score   support\n",
      "\n",
      "      satire       0.40      0.35      0.38       750\n",
      "        hoax       0.38      0.30      0.33       750\n",
      "  propaganda       0.17      0.17      0.17       750\n",
      "    reliable       0.52      0.71      0.60       750\n",
      "\n",
      "    accuracy                           0.38      3000\n",
      "   macro avg       0.37      0.38      0.37      3000\n",
      "weighted avg       0.37      0.38      0.37      3000\n",
      "\n"
     ]
    }
   ],
   "source": [
    "print(classification_report(y_val, y_pred_val, target_names=['satire', 'hoax', 'propaganda', 'reliable']))"
   ]
  },
  {
   "cell_type": "code",
   "execution_count": 64,
   "metadata": {},
   "outputs": [
    {
     "data": {
      "image/png": "[encoded data removed]",
      "text/plain": [
       "<Figure size 432x432 with 2 Axes>"
      ]
     },
     "metadata": {
      "needs_background": "light"
     },
     "output_type": "display_data"
    }
   ],
   "source": [
    "cm = confusion_matrix(y_val, y_pred_val)\n",
    "plt.figure(figsize=(6, 6))\n",
    "sns.heatmap(cm, annot=True, fmt=\"d\")\n",
    "plt.title(\"Confusion matrix\")\n",
    "plt.ylabel('True label')\n",
    "plt.xlabel('Predicted label')\n",
    "plt.show()\t"
   ]
  },
  {
   "cell_type": "code",
   "execution_count": 65,
   "metadata": {},
   "outputs": [
    {
     "data": {
      "text/html": [
       "<div>\n",
       "<style scoped>\n",
       "    .dataframe tbody tr th:only-of-type {\n",
       "        vertical-align: middle;\n",
       "    }\n",
       "\n",
       "    .dataframe tbody tr th {\n",
       "        vertical-align: top;\n",
       "    }\n",
       "\n",
       "    .dataframe thead th {\n",
       "        text-align: right;\n",
       "    }\n",
       "</style>\n",
       "<table border=\"1\" class=\"dataframe\">\n",
       "  <thead>\n",
       "    <tr style=\"text-align: right;\">\n",
       "      <th></th>\n",
       "      <th>Feature</th>\n",
       "      <th>Importance</th>\n",
       "    </tr>\n",
       "  </thead>\n",
       "  <tbody>\n",
       "    <tr>\n",
       "      <th>16</th>\n",
       "      <td>subjectivity</td>\n",
       "      <td>1.672</td>\n",
       "    </tr>\n",
       "    <tr>\n",
       "      <th>2</th>\n",
       "      <td>num_contractions</td>\n",
       "      <td>1.388</td>\n",
       "    </tr>\n",
       "    <tr>\n",
       "      <th>15</th>\n",
       "      <td>polarity</td>\n",
       "      <td>0.576</td>\n",
       "    </tr>\n",
       "    <tr>\n",
       "      <th>13</th>\n",
       "      <td>dale_chall_readability</td>\n",
       "      <td>0.127</td>\n",
       "    </tr>\n",
       "    <tr>\n",
       "      <th>12</th>\n",
       "      <td>gunning_fog_grade_index</td>\n",
       "      <td>0.110</td>\n",
       "    </tr>\n",
       "    <tr>\n",
       "      <th>3</th>\n",
       "      <td>num_special_characters</td>\n",
       "      <td>0.074</td>\n",
       "    </tr>\n",
       "    <tr>\n",
       "      <th>8</th>\n",
       "      <td>num_adverb</td>\n",
       "      <td>0.038</td>\n",
       "    </tr>\n",
       "    <tr>\n",
       "      <th>5</th>\n",
       "      <td>num_lowercase</td>\n",
       "      <td>0.006</td>\n",
       "    </tr>\n",
       "    <tr>\n",
       "      <th>11</th>\n",
       "      <td>num_article</td>\n",
       "      <td>-0.004</td>\n",
       "    </tr>\n",
       "    <tr>\n",
       "      <th>9</th>\n",
       "      <td>num_adjective</td>\n",
       "      <td>-0.006</td>\n",
       "    </tr>\n",
       "  </tbody>\n",
       "</table>\n",
       "</div>"
      ],
      "text/plain": [
       "                    Feature  Importance\n",
       "16             subjectivity       1.672\n",
       "2          num_contractions       1.388\n",
       "15                 polarity       0.576\n",
       "13   dale_chall_readability       0.127\n",
       "12  gunning_fog_grade_index       0.110\n",
       "3    num_special_characters       0.074\n",
       "8                num_adverb       0.038\n",
       "5             num_lowercase       0.006\n",
       "11              num_article      -0.004\n",
       "9             num_adjective      -0.006"
      ]
     },
     "execution_count": 65,
     "metadata": {},
     "output_type": "execute_result"
    }
   ],
   "source": [
    "importance = pd.DataFrame({'Feature':X_train.columns,'Importance':np.round(logreg.coef_[0], 3)})\n",
    "importance = importance.sort_values('Importance',ascending=False)\n",
    "importance.head(10)"
   ]
  }
 ],
 "metadata": {
  "kernelspec": {
   "display_name": "Python 3 (ipykernel)",
   "language": "python",
   "name": "python3"
  },
  "language_info": {
   "codemirror_mode": {
    "name": "ipython",
    "version": 3
   },
   "file_extension": ".py",
   "mimetype": "text/x-python",
   "name": "python",
   "nbconvert_exporter": "python",
   "pygments_lexer": "ipython3",
   "version": "3.9.9"
  },
  "vscode": {
   "interpreter": {
    "hash": "aee8b7b246df8f9039afb4144a1f6fd8d2ca17a180786b69acc140d282b71a49"
   }
  }
 },
 "nbformat": 4,
 "nbformat_minor": 2
}
